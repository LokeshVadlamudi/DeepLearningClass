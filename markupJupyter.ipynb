{
  "nbformat": 4,
  "nbformat_minor": 0,
  "metadata": {
    "colab": {
      "name": "markupJupyter.ipynb",
      "provenance": [],
      "authorship_tag": "ABX9TyMu8j28Gl8W8p9s4LQZdB9C",
      "include_colab_link": true
    },
    "kernelspec": {
      "name": "python3",
      "display_name": "Python 3"
    },
    "accelerator": "GPU"
  },
  "cells": [
    {
      "cell_type": "markdown",
      "metadata": {
        "id": "view-in-github",
        "colab_type": "text"
      },
      "source": [
        "<a href=\"https://colab.research.google.com/github/LokeshVadlamudi/DeepLearningClass/blob/master/markupJupyter.ipynb\" target=\"_parent\"><img src=\"https://colab.research.google.com/assets/colab-badge.svg\" alt=\"Open In Colab\"/></a>"
      ]
    },
    {
      "cell_type": "code",
      "metadata": {
        "id": "2uucKfCK0ZcU",
        "colab_type": "code",
        "colab": {
          "base_uri": "https://localhost:8080/",
          "height": 34
        },
        "outputId": "6efc1218-38a7-4b3f-ddc3-5e0df10540b6"
      },
      "source": [
        "1 + 1"
      ],
      "execution_count": 2,
      "outputs": [
        {
          "output_type": "execute_result",
          "data": {
            "text/plain": [
              "2"
            ]
          },
          "metadata": {
            "tags": []
          },
          "execution_count": 2
        }
      ]
    },
    {
      "cell_type": "markdown",
      "metadata": {
        "id": "FZF-YogK4oNa",
        "colab_type": "text"
      },
      "source": [
        "markup\n"
      ]
    },
    {
      "cell_type": "code",
      "metadata": {
        "id": "8RPrdORO4tKZ",
        "colab_type": "code",
        "colab": {}
      },
      "source": [
        ""
      ],
      "execution_count": 0,
      "outputs": []
    },
    {
      "cell_type": "markdown",
      "metadata": {
        "id": "gVVJS6-m57f7",
        "colab_type": "text"
      },
      "source": [
        "_italics_\n"
      ]
    },
    {
      "cell_type": "markdown",
      "metadata": {
        "id": "3pQHQoy_5_fW",
        "colab_type": "text"
      },
      "source": [
        ">block text\n"
      ]
    },
    {
      "cell_type": "markdown",
      "metadata": {
        "id": "PzHjUPY36DMU",
        "colab_type": "text"
      },
      "source": [
        "__bold text__"
      ]
    },
    {
      "cell_type": "markdown",
      "metadata": {
        "id": "tbiklFjA6Hbs",
        "colab_type": "text"
      },
      "source": [
        "#heading\n"
      ]
    },
    {
      "cell_type": "markdown",
      "metadata": {
        "id": "Wj0tqb2z6R7q",
        "colab_type": "text"
      },
      "source": [
        "###heading\n"
      ]
    },
    {
      "cell_type": "markdown",
      "metadata": {
        "id": "Ogx-zMEg6VCa",
        "colab_type": "text"
      },
      "source": [
        ""
      ]
    }
  ]
}