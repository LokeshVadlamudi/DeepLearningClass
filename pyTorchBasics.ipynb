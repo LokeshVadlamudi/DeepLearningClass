{
  "nbformat": 4,
  "nbformat_minor": 0,
  "metadata": {
    "colab": {
      "name": "pyTorchBasics.ipynb",
      "provenance": [],
      "collapsed_sections": [],
      "authorship_tag": "ABX9TyPtPUsJl4xkbzsgXscxweSV",
      "include_colab_link": true
    },
    "kernelspec": {
      "name": "python3",
      "display_name": "Python 3"
    },
    "accelerator": "GPU"
  },
  "cells": [
    {
      "cell_type": "markdown",
      "metadata": {
        "id": "view-in-github",
        "colab_type": "text"
      },
      "source": [
        "<a href=\"https://colab.research.google.com/github/LokeshVadlamudi/DeepLearningClass/blob/master/pyTorchBasics.ipynb\" target=\"_parent\"><img src=\"https://colab.research.google.com/assets/colab-badge.svg\" alt=\"Open In Colab\"/></a>"
      ]
    },
    {
      "cell_type": "code",
      "metadata": {
        "id": "_eiRud2PeOFN",
        "colab_type": "code",
        "colab": {}
      },
      "source": [
        "import torch"
      ],
      "execution_count": 0,
      "outputs": []
    },
    {
      "cell_type": "code",
      "metadata": {
        "id": "PL2G842EXb9_",
        "colab_type": "code",
        "colab": {}
      },
      "source": [
        "a = [1.0, 2.0, 1.0]"
      ],
      "execution_count": 0,
      "outputs": []
    },
    {
      "cell_type": "code",
      "metadata": {
        "id": "iEtAeoTjeBZu",
        "colab_type": "code",
        "colab": {
          "base_uri": "https://localhost:8080/",
          "height": 33
        },
        "outputId": "1e4b0ec1-8f77-4cb4-b16f-b5cdb9bbfd8a"
      },
      "source": [
        "\n",
        "o = torch.ones(3)\n",
        "o"
      ],
      "execution_count": 3,
      "outputs": [
        {
          "output_type": "execute_result",
          "data": {
            "text/plain": [
              "tensor([1., 1., 1.])"
            ]
          },
          "metadata": {
            "tags": []
          },
          "execution_count": 3
        }
      ]
    },
    {
      "cell_type": "code",
      "metadata": {
        "id": "Fr5myq3feHOb",
        "colab_type": "code",
        "colab": {
          "base_uri": "https://localhost:8080/",
          "height": 33
        },
        "outputId": "4b660227-3e14-4e67-9069-f9626adfa5d3"
      },
      "source": [
        "o[1]"
      ],
      "execution_count": 5,
      "outputs": [
        {
          "output_type": "execute_result",
          "data": {
            "text/plain": [
              "tensor(1.)"
            ]
          },
          "metadata": {
            "tags": []
          },
          "execution_count": 5
        }
      ]
    },
    {
      "cell_type": "code",
      "metadata": {
        "id": "-VTYFLVEeS-g",
        "colab_type": "code",
        "colab": {}
      },
      "source": [
        "o[2] = 3.0"
      ],
      "execution_count": 0,
      "outputs": []
    },
    {
      "cell_type": "code",
      "metadata": {
        "id": "ch3C-quleWPX",
        "colab_type": "code",
        "colab": {
          "base_uri": "https://localhost:8080/",
          "height": 33
        },
        "outputId": "cef7aa84-ef09-4ac4-92fe-7e4ac7f02e29"
      },
      "source": [
        "o"
      ],
      "execution_count": 7,
      "outputs": [
        {
          "output_type": "execute_result",
          "data": {
            "text/plain": [
              "tensor([1., 1., 3.])"
            ]
          },
          "metadata": {
            "tags": []
          },
          "execution_count": 7
        }
      ]
    },
    {
      "cell_type": "markdown",
      "metadata": {
        "id": "N1kzxzpSehk1",
        "colab_type": "text"
      },
      "source": [
        "pass a list as a constructor"
      ]
    },
    {
      "cell_type": "code",
      "metadata": {
        "id": "VhgIDYEzeW5u",
        "colab_type": "code",
        "colab": {}
      },
      "source": [
        "p = torch.tensor([2.0, 3.0, 4.0])\n"
      ],
      "execution_count": 0,
      "outputs": []
    },
    {
      "cell_type": "code",
      "metadata": {
        "id": "m_iCmnSreorO",
        "colab_type": "code",
        "colab": {
          "base_uri": "https://localhost:8080/",
          "height": 33
        },
        "outputId": "d6f075da-a0d4-4a4b-b82e-dbb621ac8785"
      },
      "source": [
        "p"
      ],
      "execution_count": 9,
      "outputs": [
        {
          "output_type": "execute_result",
          "data": {
            "text/plain": [
              "tensor([2., 3., 4.])"
            ]
          },
          "metadata": {
            "tags": []
          },
          "execution_count": 9
        }
      ]
    },
    {
      "cell_type": "markdown",
      "metadata": {
        "id": "-3OiLQd5ezzh",
        "colab_type": "text"
      },
      "source": [
        "passing list of lists as a constructor"
      ]
    },
    {
      "cell_type": "code",
      "metadata": {
        "id": "NYiSS8FoepFt",
        "colab_type": "code",
        "colab": {}
      },
      "source": [
        "p = torch.tensor([[2.0, 3.0, 4.0],[2.0, 3.0, 4.0]])"
      ],
      "execution_count": 0,
      "outputs": []
    },
    {
      "cell_type": "code",
      "metadata": {
        "id": "QTySXy3ce3I3",
        "colab_type": "code",
        "colab": {
          "base_uri": "https://localhost:8080/",
          "height": 50
        },
        "outputId": "6641c22c-0f60-4709-dac9-2bfcceeccf9e"
      },
      "source": [
        "p"
      ],
      "execution_count": 11,
      "outputs": [
        {
          "output_type": "execute_result",
          "data": {
            "text/plain": [
              "tensor([[2., 3., 4.],\n",
              "        [2., 3., 4.]])"
            ]
          },
          "metadata": {
            "tags": []
          },
          "execution_count": 11
        }
      ]
    },
    {
      "cell_type": "markdown",
      "metadata": {
        "id": "qUR-N_kye7HL",
        "colab_type": "text"
      },
      "source": [
        "print the shape"
      ]
    },
    {
      "cell_type": "code",
      "metadata": {
        "id": "apPLQqpqe3YN",
        "colab_type": "code",
        "colab": {
          "base_uri": "https://localhost:8080/",
          "height": 33
        },
        "outputId": "e50a4f82-e010-4038-8ee7-9001ba901d87"
      },
      "source": [
        "p.shape"
      ],
      "execution_count": 12,
      "outputs": [
        {
          "output_type": "execute_result",
          "data": {
            "text/plain": [
              "torch.Size([2, 3])"
            ]
          },
          "metadata": {
            "tags": []
          },
          "execution_count": 12
        }
      ]
    },
    {
      "cell_type": "markdown",
      "metadata": {
        "id": "6J93MGRLfCwa",
        "colab_type": "text"
      },
      "source": [
        "we could also initilize tensor using size as constructor"
      ]
    },
    {
      "cell_type": "code",
      "metadata": {
        "id": "hvRYrVM2e9eF",
        "colab_type": "code",
        "colab": {}
      },
      "source": [
        "p = torch.zeros(3, 2)"
      ],
      "execution_count": 0,
      "outputs": []
    },
    {
      "cell_type": "code",
      "metadata": {
        "id": "CmLe6pZ1fIcd",
        "colab_type": "code",
        "colab": {
          "base_uri": "https://localhost:8080/",
          "height": 66
        },
        "outputId": "88b1faae-0f2e-435e-83ff-be051eb7b9ec"
      },
      "source": [
        "p"
      ],
      "execution_count": 14,
      "outputs": [
        {
          "output_type": "execute_result",
          "data": {
            "text/plain": [
              "tensor([[0., 0.],\n",
              "        [0., 0.],\n",
              "        [0., 0.]])"
            ]
          },
          "metadata": {
            "tags": []
          },
          "execution_count": 14
        }
      ]
    },
    {
      "cell_type": "markdown",
      "metadata": {
        "id": "l72em-7_fTg1",
        "colab_type": "text"
      },
      "source": [
        "we can accesss all the elements in a tensor using .storage property"
      ]
    },
    {
      "cell_type": "code",
      "metadata": {
        "id": "zlB6AxYjfIui",
        "colab_type": "code",
        "colab": {
          "base_uri": "https://localhost:8080/",
          "height": 98
        },
        "outputId": "e0f61b3b-7734-4f7d-c62d-b7ede16192b5"
      },
      "source": [
        "p = torch.tensor([[1.0, 4.0], [3.0, 5.0]])\n",
        "p.storage()"
      ],
      "execution_count": 19,
      "outputs": [
        {
          "output_type": "execute_result",
          "data": {
            "text/plain": [
              " 1.0\n",
              " 4.0\n",
              " 3.0\n",
              " 5.0\n",
              "[torch.FloatStorage of size 4]"
            ]
          },
          "metadata": {
            "tags": []
          },
          "execution_count": 19
        }
      ]
    },
    {
      "cell_type": "markdown",
      "metadata": {
        "id": "3kiZYj3SfscT",
        "colab_type": "text"
      },
      "source": [
        "stride is a tuple indicating the number of elements in the storage that have to be\n",
        "skipped when the index is increased by 1 in each dimension."
      ]
    },
    {
      "cell_type": "code",
      "metadata": {
        "id": "Gn5bQ8VSfbRM",
        "colab_type": "code",
        "colab": {
          "base_uri": "https://localhost:8080/",
          "height": 33
        },
        "outputId": "4660394c-17a5-4ba8-fa30-f5a94b7e5cc9"
      },
      "source": [
        "p.stride()"
      ],
      "execution_count": 20,
      "outputs": [
        {
          "output_type": "execute_result",
          "data": {
            "text/plain": [
              "(2, 1)"
            ]
          },
          "metadata": {
            "tags": []
          },
          "execution_count": 20
        }
      ]
    },
    {
      "cell_type": "markdown",
      "metadata": {
        "id": "LhwpOwVef6Jn",
        "colab_type": "text"
      },
      "source": [
        " transposing now"
      ]
    },
    {
      "cell_type": "code",
      "metadata": {
        "id": "X2MPuxbefvCt",
        "colab_type": "code",
        "colab": {}
      },
      "source": [
        "p_t = p.t()"
      ],
      "execution_count": 0,
      "outputs": []
    },
    {
      "cell_type": "code",
      "metadata": {
        "id": "zeSkiap5f9CV",
        "colab_type": "code",
        "colab": {
          "base_uri": "https://localhost:8080/",
          "height": 50
        },
        "outputId": "90b8417c-3133-4a02-84d2-87f42cd9e3f7"
      },
      "source": [
        "p_t"
      ],
      "execution_count": 22,
      "outputs": [
        {
          "output_type": "execute_result",
          "data": {
            "text/plain": [
              "tensor([[1., 3.],\n",
              "        [4., 5.]])"
            ]
          },
          "metadata": {
            "tags": []
          },
          "execution_count": 22
        }
      ]
    },
    {
      "cell_type": "markdown",
      "metadata": {
        "id": "YshTej_cgLNH",
        "colab_type": "text"
      },
      "source": [
        "we can easily verify that the two tensors share storage"
      ]
    },
    {
      "cell_type": "code",
      "metadata": {
        "id": "Zb7iHzX1f9Ul",
        "colab_type": "code",
        "colab": {
          "base_uri": "https://localhost:8080/",
          "height": 33
        },
        "outputId": "c44b1be5-0dd0-4494-bbb9-b6a7afe858ce"
      },
      "source": [
        "id(p.storage()) == id(p_t.storage())"
      ],
      "execution_count": 23,
      "outputs": [
        {
          "output_type": "execute_result",
          "data": {
            "text/plain": [
              "True"
            ]
          },
          "metadata": {
            "tags": []
          },
          "execution_count": 23
        }
      ]
    },
    {
      "cell_type": "markdown",
      "metadata": {
        "id": "S3oSrmDFgdqa",
        "colab_type": "text"
      },
      "source": [
        " To allocate a tensor of the right numeric type, you can specify the proper dtype as\n",
        "an argument to the constructor"
      ]
    },
    {
      "cell_type": "code",
      "metadata": {
        "id": "HZxUh58hgJLr",
        "colab_type": "code",
        "colab": {}
      },
      "source": [
        "d_p = torch.ones(10, 2, dtype=torch.double)"
      ],
      "execution_count": 0,
      "outputs": []
    },
    {
      "cell_type": "code",
      "metadata": {
        "id": "0EIVcpr8giW2",
        "colab_type": "code",
        "colab": {
          "base_uri": "https://localhost:8080/",
          "height": 33
        },
        "outputId": "b025e547-9c89-4881-b7d7-ea0dff4447d4"
      },
      "source": [
        "d_p.dtype"
      ],
      "execution_count": 26,
      "outputs": [
        {
          "output_type": "execute_result",
          "data": {
            "text/plain": [
              "torch.float64"
            ]
          },
          "metadata": {
            "tags": []
          },
          "execution_count": 26
        }
      ]
    },
    {
      "cell_type": "markdown",
      "metadata": {
        "id": "mJewFVhKgsmW",
        "colab_type": "text"
      },
      "source": [
        "To get a NumPy array out of your points tensor"
      ]
    },
    {
      "cell_type": "code",
      "metadata": {
        "id": "MGMnN3_Hgj7F",
        "colab_type": "code",
        "colab": {
          "base_uri": "https://localhost:8080/",
          "height": 66
        },
        "outputId": "a15bd876-7146-4175-97ea-e6ab6b654340"
      },
      "source": [
        "p = torch.ones(3, 4)\n",
        "p_np = p.numpy()\n",
        "p_np"
      ],
      "execution_count": 7,
      "outputs": [
        {
          "output_type": "execute_result",
          "data": {
            "text/plain": [
              "array([[1., 1., 1., 1.],\n",
              "       [1., 1., 1., 1.],\n",
              "       [1., 1., 1., 1.]], dtype=float32)"
            ]
          },
          "metadata": {
            "tags": []
          },
          "execution_count": 7
        }
      ]
    },
    {
      "cell_type": "markdown",
      "metadata": {
        "id": "zy5GBp1DhAYk",
        "colab_type": "text"
      },
      "source": [
        "Serializing tensors"
      ]
    },
    {
      "cell_type": "code",
      "metadata": {
        "id": "MMHQM0tMgzTk",
        "colab_type": "code",
        "colab": {}
      },
      "source": [
        "# torch.save(p, '/content/ourpoints.t')"
      ],
      "execution_count": 0,
      "outputs": []
    },
    {
      "cell_type": "code",
      "metadata": {
        "id": "EuZOVuF8hCoa",
        "colab_type": "code",
        "colab": {}
      },
      "source": [
        "# p = torch.load('/content/ourpoints.t')"
      ],
      "execution_count": 0,
      "outputs": []
    },
    {
      "cell_type": "markdown",
      "metadata": {
        "id": "MEZrhQvohTar",
        "colab_type": "text"
      },
      "source": [
        "Moving tensors to the GPU"
      ]
    },
    {
      "cell_type": "code",
      "metadata": {
        "id": "X020dHWghJH9",
        "colab_type": "code",
        "colab": {}
      },
      "source": [
        "p_gpu = torch.tensor([[1.0, 4.0], [2.0, 1.0], [3.0, 4.0]],device='cuda')"
      ],
      "execution_count": 0,
      "outputs": []
    },
    {
      "cell_type": "code",
      "metadata": {
        "id": "XhyQAffGhaS4",
        "colab_type": "code",
        "colab": {
          "base_uri": "https://localhost:8080/",
          "height": 66
        },
        "outputId": "fe503f26-9d1d-416e-8b6e-d90eeae38f77"
      },
      "source": [
        "p_gpu"
      ],
      "execution_count": 4,
      "outputs": [
        {
          "output_type": "execute_result",
          "data": {
            "text/plain": [
              "tensor([[1., 4.],\n",
              "        [2., 1.],\n",
              "        [3., 4.]], device='cuda:0')"
            ]
          },
          "metadata": {
            "tags": []
          },
          "execution_count": 4
        }
      ]
    },
    {
      "cell_type": "markdown",
      "metadata": {
        "id": "bYM3vKOqhv2e",
        "colab_type": "text"
      },
      "source": [
        "You could instead copy a tensor created on the CPU to the GPU"
      ]
    },
    {
      "cell_type": "code",
      "metadata": {
        "id": "j-UtIXcvhqPc",
        "colab_type": "code",
        "colab": {}
      },
      "source": [
        "p_gpu = p.to(device='cuda')"
      ],
      "execution_count": 0,
      "outputs": []
    },
    {
      "cell_type": "markdown",
      "metadata": {
        "id": "gKXw3poJh8TN",
        "colab_type": "text"
      },
      "source": [
        "multiplication"
      ]
    },
    {
      "cell_type": "code",
      "metadata": {
        "id": "vP1W_T1NhyY3",
        "colab_type": "code",
        "colab": {}
      },
      "source": [
        "# points = 2 * points\n",
        "# points_gpu = 2 * points.to(device='cuda') "
      ],
      "execution_count": 0,
      "outputs": []
    },
    {
      "cell_type": "markdown",
      "metadata": {
        "id": "jH6-z17_jru2",
        "colab_type": "text"
      },
      "source": [
        "Image"
      ]
    },
    {
      "cell_type": "code",
      "metadata": {
        "id": "bnmkE_Kxh_WZ",
        "colab_type": "code",
        "colab": {}
      },
      "source": [
        "import imageio"
      ],
      "execution_count": 0,
      "outputs": []
    },
    {
      "cell_type": "code",
      "metadata": {
        "id": "BSXcksxOjsZt",
        "colab_type": "code",
        "colab": {}
      },
      "source": [
        "# img_arr = imageio.imread('/content/loki.jpg')\n",
        "# img_arr.shape"
      ],
      "execution_count": 0,
      "outputs": []
    },
    {
      "cell_type": "code",
      "metadata": {
        "id": "872Q6E2wjxzS",
        "colab_type": "code",
        "colab": {}
      },
      "source": [
        "# img = torch.from_numpy(img_arr)\n",
        "# out = torch.transpose(img, 0, 2)"
      ],
      "execution_count": 0,
      "outputs": []
    },
    {
      "cell_type": "markdown",
      "metadata": {
        "id": "wMNJoteTkCeI",
        "colab_type": "text"
      },
      "source": [
        "Volumetric data"
      ]
    },
    {
      "cell_type": "code",
      "metadata": {
        "id": "mbnDctkCj3CO",
        "colab_type": "code",
        "colab": {}
      },
      "source": [
        "import imageio\n",
        "# dir_path = \"/content/2-LUNG\"\n",
        "# vol_arr = imageio.volread(dir_path, 'DICOM')\n",
        "# vol_arr.shape"
      ],
      "execution_count": 0,
      "outputs": []
    },
    {
      "cell_type": "markdown",
      "metadata": {
        "id": "Fr2EonRUkamM",
        "colab_type": "text"
      },
      "source": [
        "the layout is different from what PyTorch expects, due to the lack of\n",
        "channel information. You’ll have to make room for the channel dimension by using\n",
        "unsqueeze:"
      ]
    },
    {
      "cell_type": "code",
      "metadata": {
        "id": "ev-nw1grkWWQ",
        "colab_type": "code",
        "colab": {}
      },
      "source": [
        "# vol = torch.from_numpy(vol_arr).float()\n",
        "# vol = torch.transpose(vol, 0, 2)\n",
        "# vol = torch.unsqueeze(vol, 0)\n",
        "# vol.shape"
      ],
      "execution_count": 0,
      "outputs": []
    },
    {
      "cell_type": "code",
      "metadata": {
        "id": "htrEeLd5kdaf",
        "colab_type": "code",
        "colab": {}
      },
      "source": [
        ""
      ],
      "execution_count": 0,
      "outputs": []
    }
  ]
}