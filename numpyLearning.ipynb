{
  "nbformat": 4,
  "nbformat_minor": 0,
  "metadata": {
    "colab": {
      "name": "numpyLearning.ipynb",
      "provenance": [],
      "authorship_tag": "ABX9TyNcudSVOeE4bn4xh75Cnt05",
      "include_colab_link": true
    },
    "kernelspec": {
      "name": "python3",
      "display_name": "Python 3"
    }
  },
  "cells": [
    {
      "cell_type": "markdown",
      "metadata": {
        "id": "view-in-github",
        "colab_type": "text"
      },
      "source": [
        "<a href=\"https://colab.research.google.com/github/LokeshVadlamudi/DeepLearningClass/blob/master/numpyLearning.ipynb\" target=\"_parent\"><img src=\"https://colab.research.google.com/assets/colab-badge.svg\" alt=\"Open In Colab\"/></a>"
      ]
    },
    {
      "cell_type": "code",
      "metadata": {
        "id": "mjxvYAd_-MpB",
        "colab_type": "code",
        "colab": {}
      },
      "source": [
        "import numpy as np"
      ],
      "execution_count": 0,
      "outputs": []
    },
    {
      "cell_type": "code",
      "metadata": {
        "id": "LxdEtmep_Fek",
        "colab_type": "code",
        "colab": {
          "base_uri": "https://localhost:8080/",
          "height": 34
        },
        "outputId": "fde401eb-b5e7-4841-e93d-d425f42b37f7"
      },
      "source": [
        "i = np.array([1,2])\n",
        "j = np.array([2,3])\n",
        "i + j"
      ],
      "execution_count": 2,
      "outputs": [
        {
          "output_type": "execute_result",
          "data": {
            "text/plain": [
              "array([3, 5])"
            ]
          },
          "metadata": {
            "tags": []
          },
          "execution_count": 2
        }
      ]
    },
    {
      "cell_type": "markdown",
      "metadata": {
        "id": "_KA-effL_bz9",
        "colab_type": "text"
      },
      "source": [
        "broadcasting is performing some action with scalar element on a multidimensional array"
      ]
    },
    {
      "cell_type": "code",
      "metadata": {
        "id": "6Seu4e1e_RHE",
        "colab_type": "code",
        "colab": {
          "base_uri": "https://localhost:8080/",
          "height": 34
        },
        "outputId": "06f51e88-d4c9-4531-9cfa-57528b389035"
      },
      "source": [
        "i + 2"
      ],
      "execution_count": 3,
      "outputs": [
        {
          "output_type": "execute_result",
          "data": {
            "text/plain": [
              "array([3, 4])"
            ]
          },
          "metadata": {
            "tags": []
          },
          "execution_count": 3
        }
      ]
    },
    {
      "cell_type": "code",
      "metadata": {
        "id": "EOYFq92J_l9f",
        "colab_type": "code",
        "colab": {
          "base_uri": "https://localhost:8080/",
          "height": 68
        },
        "outputId": "c332e7af-a862-42d0-8697-f79488dbfdd9"
      },
      "source": [
        "p = np.ones((3,3))\n",
        "p"
      ],
      "execution_count": 4,
      "outputs": [
        {
          "output_type": "execute_result",
          "data": {
            "text/plain": [
              "array([[1., 1., 1.],\n",
              "       [1., 1., 1.],\n",
              "       [1., 1., 1.]])"
            ]
          },
          "metadata": {
            "tags": []
          },
          "execution_count": 4
        }
      ]
    },
    {
      "cell_type": "code",
      "metadata": {
        "id": "EazkEO9RAD9O",
        "colab_type": "code",
        "colab": {}
      },
      "source": [
        "k = np.array([1,2,3])"
      ],
      "execution_count": 0,
      "outputs": []
    },
    {
      "cell_type": "code",
      "metadata": {
        "id": "D1dYJhneAFMK",
        "colab_type": "code",
        "colab": {
          "base_uri": "https://localhost:8080/",
          "height": 68
        },
        "outputId": "f22b5565-107c-459a-edfc-69d6d869dd6c"
      },
      "source": [
        "p + k"
      ],
      "execution_count": 7,
      "outputs": [
        {
          "output_type": "execute_result",
          "data": {
            "text/plain": [
              "array([[2., 3., 4.],\n",
              "       [2., 3., 4.],\n",
              "       [2., 3., 4.]])"
            ]
          },
          "metadata": {
            "tags": []
          },
          "execution_count": 7
        }
      ]
    },
    {
      "cell_type": "markdown",
      "metadata": {
        "id": "tLSBmMnXAdBt",
        "colab_type": "text"
      },
      "source": [
        "let us try mean feature"
      ]
    },
    {
      "cell_type": "code",
      "metadata": {
        "id": "cGcgJF5fAO0L",
        "colab_type": "code",
        "colab": {
          "base_uri": "https://localhost:8080/",
          "height": 187
        },
        "outputId": "6a19779c-eb75-405b-b1d4-828682496789"
      },
      "source": [
        "q = np.random.random((10,3))\n",
        "q"
      ],
      "execution_count": 11,
      "outputs": [
        {
          "output_type": "execute_result",
          "data": {
            "text/plain": [
              "array([[0.85271202, 0.44674505, 0.38777736],\n",
              "       [0.73751917, 0.0954448 , 0.2474041 ],\n",
              "       [0.60930523, 0.55535422, 0.37998519],\n",
              "       [0.47795525, 0.2503168 , 0.72512036],\n",
              "       [0.86701724, 0.27156533, 0.615014  ],\n",
              "       [0.29931999, 0.11521293, 0.61948926],\n",
              "       [0.45033014, 0.1400208 , 0.04052955],\n",
              "       [0.58255934, 0.10097324, 0.92685342],\n",
              "       [0.09807577, 0.53481035, 0.74701632],\n",
              "       [0.64272146, 0.08382085, 0.99930308]])"
            ]
          },
          "metadata": {
            "tags": []
          },
          "execution_count": 11
        }
      ]
    },
    {
      "cell_type": "code",
      "metadata": {
        "id": "R0E2woxeAll1",
        "colab_type": "code",
        "colab": {
          "base_uri": "https://localhost:8080/",
          "height": 34
        },
        "outputId": "c89f0a84-e4b0-4f11-e57f-42f22ebd42a1"
      },
      "source": [
        "qmean = q.mean(0)\n",
        "qmean"
      ],
      "execution_count": 14,
      "outputs": [
        {
          "output_type": "execute_result",
          "data": {
            "text/plain": [
              "array([0.56175156, 0.25942644, 0.56884926])"
            ]
          },
          "metadata": {
            "tags": []
          },
          "execution_count": 14
        }
      ]
    },
    {
      "cell_type": "code",
      "metadata": {
        "id": "AsxquWAbAu-t",
        "colab_type": "code",
        "colab": {}
      },
      "source": [
        ""
      ],
      "execution_count": 0,
      "outputs": []
    }
  ]
}