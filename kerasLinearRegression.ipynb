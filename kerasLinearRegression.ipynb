{
  "nbformat": 4,
  "nbformat_minor": 0,
  "metadata": {
    "colab": {
      "name": "kerasLinearRegression.ipynb",
      "provenance": [],
      "collapsed_sections": [],
      "mount_file_id": "1aUkNA_gbT9k81U5BVrs_F3n5AlVybomv",
      "authorship_tag": "ABX9TyNsDWoHwVN42H9bcopU6aY2",
      "include_colab_link": true
    },
    "kernelspec": {
      "name": "python3",
      "display_name": "Python 3"
    }
  },
  "cells": [
    {
      "cell_type": "markdown",
      "metadata": {
        "id": "view-in-github",
        "colab_type": "text"
      },
      "source": [
        "<a href=\"https://colab.research.google.com/github/LokeshVadlamudi/DeepLearningClass/blob/master/kerasLinearRegression.ipynb\" target=\"_parent\"><img src=\"https://colab.research.google.com/assets/colab-badge.svg\" alt=\"Open In Colab\"/></a>"
      ]
    },
    {
      "cell_type": "code",
      "metadata": {
        "id": "QLmjlWnbQJ9h",
        "colab_type": "code",
        "colab": {}
      },
      "source": [
        "import numpy as np"
      ],
      "execution_count": 0,
      "outputs": []
    },
    {
      "cell_type": "code",
      "metadata": {
        "id": "dHTQWnr5TAHA",
        "colab_type": "code",
        "colab": {}
      },
      "source": [
        "import pandas as pd"
      ],
      "execution_count": 0,
      "outputs": []
    },
    {
      "cell_type": "code",
      "metadata": {
        "id": "WOtlU9YpTBm0",
        "colab_type": "code",
        "colab": {}
      },
      "source": [
        "df = pd.read_csv('/content/drive/My Drive/kc_house_data.csv')"
      ],
      "execution_count": 0,
      "outputs": []
    },
    {
      "cell_type": "code",
      "metadata": {
        "id": "dwA0Z_NETLjE",
        "colab_type": "code",
        "colab": {
          "base_uri": "https://localhost:8080/",
          "height": 211
        },
        "outputId": "36f88621-840a-4fe7-ee15-140310be4d4d"
      },
      "source": [
        "df.head()"
      ],
      "execution_count": 4,
      "outputs": [
        {
          "output_type": "execute_result",
          "data": {
            "text/html": [
              "<div>\n",
              "<style scoped>\n",
              "    .dataframe tbody tr th:only-of-type {\n",
              "        vertical-align: middle;\n",
              "    }\n",
              "\n",
              "    .dataframe tbody tr th {\n",
              "        vertical-align: top;\n",
              "    }\n",
              "\n",
              "    .dataframe thead th {\n",
              "        text-align: right;\n",
              "    }\n",
              "</style>\n",
              "<table border=\"1\" class=\"dataframe\">\n",
              "  <thead>\n",
              "    <tr style=\"text-align: right;\">\n",
              "      <th></th>\n",
              "      <th>id</th>\n",
              "      <th>date</th>\n",
              "      <th>price</th>\n",
              "      <th>bedrooms</th>\n",
              "      <th>bathrooms</th>\n",
              "      <th>sqft_living</th>\n",
              "      <th>sqft_lot</th>\n",
              "      <th>floors</th>\n",
              "      <th>waterfront</th>\n",
              "      <th>view</th>\n",
              "      <th>condition</th>\n",
              "      <th>grade</th>\n",
              "      <th>sqft_above</th>\n",
              "      <th>sqft_basement</th>\n",
              "      <th>yr_built</th>\n",
              "      <th>yr_renovated</th>\n",
              "      <th>zipcode</th>\n",
              "      <th>lat</th>\n",
              "      <th>long</th>\n",
              "      <th>sqft_living15</th>\n",
              "      <th>sqft_lot15</th>\n",
              "    </tr>\n",
              "  </thead>\n",
              "  <tbody>\n",
              "    <tr>\n",
              "      <th>0</th>\n",
              "      <td>7129300520</td>\n",
              "      <td>20141013T000000</td>\n",
              "      <td>221900.0</td>\n",
              "      <td>3</td>\n",
              "      <td>1.00</td>\n",
              "      <td>1180</td>\n",
              "      <td>5650</td>\n",
              "      <td>1.0</td>\n",
              "      <td>0</td>\n",
              "      <td>0</td>\n",
              "      <td>3</td>\n",
              "      <td>7</td>\n",
              "      <td>1180</td>\n",
              "      <td>0</td>\n",
              "      <td>1955</td>\n",
              "      <td>0</td>\n",
              "      <td>98178</td>\n",
              "      <td>47.5112</td>\n",
              "      <td>-122.257</td>\n",
              "      <td>1340</td>\n",
              "      <td>5650</td>\n",
              "    </tr>\n",
              "    <tr>\n",
              "      <th>1</th>\n",
              "      <td>6414100192</td>\n",
              "      <td>20141209T000000</td>\n",
              "      <td>538000.0</td>\n",
              "      <td>3</td>\n",
              "      <td>2.25</td>\n",
              "      <td>2570</td>\n",
              "      <td>7242</td>\n",
              "      <td>2.0</td>\n",
              "      <td>0</td>\n",
              "      <td>0</td>\n",
              "      <td>3</td>\n",
              "      <td>7</td>\n",
              "      <td>2170</td>\n",
              "      <td>400</td>\n",
              "      <td>1951</td>\n",
              "      <td>1991</td>\n",
              "      <td>98125</td>\n",
              "      <td>47.7210</td>\n",
              "      <td>-122.319</td>\n",
              "      <td>1690</td>\n",
              "      <td>7639</td>\n",
              "    </tr>\n",
              "    <tr>\n",
              "      <th>2</th>\n",
              "      <td>5631500400</td>\n",
              "      <td>20150225T000000</td>\n",
              "      <td>180000.0</td>\n",
              "      <td>2</td>\n",
              "      <td>1.00</td>\n",
              "      <td>770</td>\n",
              "      <td>10000</td>\n",
              "      <td>1.0</td>\n",
              "      <td>0</td>\n",
              "      <td>0</td>\n",
              "      <td>3</td>\n",
              "      <td>6</td>\n",
              "      <td>770</td>\n",
              "      <td>0</td>\n",
              "      <td>1933</td>\n",
              "      <td>0</td>\n",
              "      <td>98028</td>\n",
              "      <td>47.7379</td>\n",
              "      <td>-122.233</td>\n",
              "      <td>2720</td>\n",
              "      <td>8062</td>\n",
              "    </tr>\n",
              "    <tr>\n",
              "      <th>3</th>\n",
              "      <td>2487200875</td>\n",
              "      <td>20141209T000000</td>\n",
              "      <td>604000.0</td>\n",
              "      <td>4</td>\n",
              "      <td>3.00</td>\n",
              "      <td>1960</td>\n",
              "      <td>5000</td>\n",
              "      <td>1.0</td>\n",
              "      <td>0</td>\n",
              "      <td>0</td>\n",
              "      <td>5</td>\n",
              "      <td>7</td>\n",
              "      <td>1050</td>\n",
              "      <td>910</td>\n",
              "      <td>1965</td>\n",
              "      <td>0</td>\n",
              "      <td>98136</td>\n",
              "      <td>47.5208</td>\n",
              "      <td>-122.393</td>\n",
              "      <td>1360</td>\n",
              "      <td>5000</td>\n",
              "    </tr>\n",
              "    <tr>\n",
              "      <th>4</th>\n",
              "      <td>1954400510</td>\n",
              "      <td>20150218T000000</td>\n",
              "      <td>510000.0</td>\n",
              "      <td>3</td>\n",
              "      <td>2.00</td>\n",
              "      <td>1680</td>\n",
              "      <td>8080</td>\n",
              "      <td>1.0</td>\n",
              "      <td>0</td>\n",
              "      <td>0</td>\n",
              "      <td>3</td>\n",
              "      <td>8</td>\n",
              "      <td>1680</td>\n",
              "      <td>0</td>\n",
              "      <td>1987</td>\n",
              "      <td>0</td>\n",
              "      <td>98074</td>\n",
              "      <td>47.6168</td>\n",
              "      <td>-122.045</td>\n",
              "      <td>1800</td>\n",
              "      <td>7503</td>\n",
              "    </tr>\n",
              "  </tbody>\n",
              "</table>\n",
              "</div>"
            ],
            "text/plain": [
              "           id             date     price  ...     long  sqft_living15  sqft_lot15\n",
              "0  7129300520  20141013T000000  221900.0  ... -122.257           1340        5650\n",
              "1  6414100192  20141209T000000  538000.0  ... -122.319           1690        7639\n",
              "2  5631500400  20150225T000000  180000.0  ... -122.233           2720        8062\n",
              "3  2487200875  20141209T000000  604000.0  ... -122.393           1360        5000\n",
              "4  1954400510  20150218T000000  510000.0  ... -122.045           1800        7503\n",
              "\n",
              "[5 rows x 21 columns]"
            ]
          },
          "metadata": {
            "tags": []
          },
          "execution_count": 4
        }
      ]
    },
    {
      "cell_type": "markdown",
      "metadata": {
        "id": "Ya5079AJTeIj",
        "colab_type": "text"
      },
      "source": [
        "**we have multiple columns that doesnt make sense for prediction**"
      ]
    },
    {
      "cell_type": "code",
      "metadata": {
        "id": "LtkXCnLkUuGn",
        "colab_type": "code",
        "colab": {
          "base_uri": "https://localhost:8080/",
          "height": 375
        },
        "outputId": "7bfd4803-e000-4117-ac0c-561111f0c20a"
      },
      "source": [
        "df.isnull().sum()"
      ],
      "execution_count": 5,
      "outputs": [
        {
          "output_type": "execute_result",
          "data": {
            "text/plain": [
              "id               0\n",
              "date             0\n",
              "price            0\n",
              "bedrooms         0\n",
              "bathrooms        0\n",
              "sqft_living      0\n",
              "sqft_lot         0\n",
              "floors           0\n",
              "waterfront       0\n",
              "view             0\n",
              "condition        0\n",
              "grade            0\n",
              "sqft_above       0\n",
              "sqft_basement    0\n",
              "yr_built         0\n",
              "yr_renovated     0\n",
              "zipcode          0\n",
              "lat              0\n",
              "long             0\n",
              "sqft_living15    0\n",
              "sqft_lot15       0\n",
              "dtype: int64"
            ]
          },
          "metadata": {
            "tags": []
          },
          "execution_count": 5
        }
      ]
    },
    {
      "cell_type": "code",
      "metadata": {
        "id": "aqPnCL2wVbJH",
        "colab_type": "code",
        "colab": {
          "base_uri": "https://localhost:8080/",
          "height": 70
        },
        "outputId": "dd4eda4c-0432-4fa4-de96-8af3bb24159f"
      },
      "source": [
        "import seaborn as sns"
      ],
      "execution_count": 6,
      "outputs": [
        {
          "output_type": "stream",
          "text": [
            "/usr/local/lib/python3.6/dist-packages/statsmodels/tools/_testing.py:19: FutureWarning: pandas.util.testing is deprecated. Use the functions in the public API at pandas.testing instead.\n",
            "  import pandas.util.testing as tm\n"
          ],
          "name": "stderr"
        }
      ]
    },
    {
      "cell_type": "code",
      "metadata": {
        "id": "r8AqAC2UVeTU",
        "colab_type": "code",
        "colab": {}
      },
      "source": [
        "corr = df.corr()"
      ],
      "execution_count": 0,
      "outputs": []
    },
    {
      "cell_type": "code",
      "metadata": {
        "id": "KBmxVB8KVL9h",
        "colab_type": "code",
        "colab": {
          "base_uri": "https://localhost:8080/",
          "height": 318
        },
        "outputId": "980ed75b-f6ec-4d8c-a7e2-0430b83ee21e"
      },
      "source": [
        "ax = sns.heatmap(\n",
        "    corr, \n",
        "    vmin=-1, vmax=1, center=0,\n",
        "    cmap=sns.diverging_palette(20, 220, n=200),\n",
        "    square=True\n",
        ")\n",
        "ax.set_xticklabels(\n",
        "    ax.get_xticklabels(),\n",
        "    rotation=45,\n",
        "    horizontalalignment='right'\n",
        ");"
      ],
      "execution_count": 8,
      "outputs": [
        {
          "output_type": "display_data",
          "data": {
            "image/png": "[encoded data removed]",
            "text/plain": [
              "<Figure size 432x288 with 2 Axes>"
            ]
          },
          "metadata": {
            "tags": [],
            "needs_background": "light"
          }
        }
      ]
    },
    {
      "cell_type": "code",
      "metadata": {
        "id": "hThfvgO0TMbt",
        "colab_type": "code",
        "colab": {
          "base_uri": "https://localhost:8080/",
          "height": 391
        },
        "outputId": "2e29a189-6cd5-479b-8597-778017fb8665"
      },
      "source": [
        "input = df[['bedrooms','bathrooms','sqft_living','sqft_lot','floors','condition','grade']]\n",
        "input"
      ],
      "execution_count": 9,
      "outputs": [
        {
          "output_type": "execute_result",
          "data": {
            "text/html": [
              "<div>\n",
              "<style scoped>\n",
              "    .dataframe tbody tr th:only-of-type {\n",
              "        vertical-align: middle;\n",
              "    }\n",
              "\n",
              "    .dataframe tbody tr th {\n",
              "        vertical-align: top;\n",
              "    }\n",
              "\n",
              "    .dataframe thead th {\n",
              "        text-align: right;\n",
              "    }\n",
              "</style>\n",
              "<table border=\"1\" class=\"dataframe\">\n",
              "  <thead>\n",
              "    <tr style=\"text-align: right;\">\n",
              "      <th></th>\n",
              "      <th>bedrooms</th>\n",
              "      <th>bathrooms</th>\n",
              "      <th>sqft_living</th>\n",
              "      <th>sqft_lot</th>\n",
              "      <th>floors</th>\n",
              "      <th>condition</th>\n",
              "      <th>grade</th>\n",
              "    </tr>\n",
              "  </thead>\n",
              "  <tbody>\n",
              "    <tr>\n",
              "      <th>0</th>\n",
              "      <td>3</td>\n",
              "      <td>1.00</td>\n",
              "      <td>1180</td>\n",
              "      <td>5650</td>\n",
              "      <td>1.0</td>\n",
              "      <td>3</td>\n",
              "      <td>7</td>\n",
              "    </tr>\n",
              "    <tr>\n",
              "      <th>1</th>\n",
              "      <td>3</td>\n",
              "      <td>2.25</td>\n",
              "      <td>2570</td>\n",
              "      <td>7242</td>\n",
              "      <td>2.0</td>\n",
              "      <td>3</td>\n",
              "      <td>7</td>\n",
              "    </tr>\n",
              "    <tr>\n",
              "      <th>2</th>\n",
              "      <td>2</td>\n",
              "      <td>1.00</td>\n",
              "      <td>770</td>\n",
              "      <td>10000</td>\n",
              "      <td>1.0</td>\n",
              "      <td>3</td>\n",
              "      <td>6</td>\n",
              "    </tr>\n",
              "    <tr>\n",
              "      <th>3</th>\n",
              "      <td>4</td>\n",
              "      <td>3.00</td>\n",
              "      <td>1960</td>\n",
              "      <td>5000</td>\n",
              "      <td>1.0</td>\n",
              "      <td>5</td>\n",
              "      <td>7</td>\n",
              "    </tr>\n",
              "    <tr>\n",
              "      <th>4</th>\n",
              "      <td>3</td>\n",
              "      <td>2.00</td>\n",
              "      <td>1680</td>\n",
              "      <td>8080</td>\n",
              "      <td>1.0</td>\n",
              "      <td>3</td>\n",
              "      <td>8</td>\n",
              "    </tr>\n",
              "    <tr>\n",
              "      <th>...</th>\n",
              "      <td>...</td>\n",
              "      <td>...</td>\n",
              "      <td>...</td>\n",
              "      <td>...</td>\n",
              "      <td>...</td>\n",
              "      <td>...</td>\n",
              "      <td>...</td>\n",
              "    </tr>\n",
              "    <tr>\n",
              "      <th>21608</th>\n",
              "      <td>3</td>\n",
              "      <td>2.50</td>\n",
              "      <td>1530</td>\n",
              "      <td>1131</td>\n",
              "      <td>3.0</td>\n",
              "      <td>3</td>\n",
              "      <td>8</td>\n",
              "    </tr>\n",
              "    <tr>\n",
              "      <th>21609</th>\n",
              "      <td>4</td>\n",
              "      <td>2.50</td>\n",
              "      <td>2310</td>\n",
              "      <td>5813</td>\n",
              "      <td>2.0</td>\n",
              "      <td>3</td>\n",
              "      <td>8</td>\n",
              "    </tr>\n",
              "    <tr>\n",
              "      <th>21610</th>\n",
              "      <td>2</td>\n",
              "      <td>0.75</td>\n",
              "      <td>1020</td>\n",
              "      <td>1350</td>\n",
              "      <td>2.0</td>\n",
              "      <td>3</td>\n",
              "      <td>7</td>\n",
              "    </tr>\n",
              "    <tr>\n",
              "      <th>21611</th>\n",
              "      <td>3</td>\n",
              "      <td>2.50</td>\n",
              "      <td>1600</td>\n",
              "      <td>2388</td>\n",
              "      <td>2.0</td>\n",
              "      <td>3</td>\n",
              "      <td>8</td>\n",
              "    </tr>\n",
              "    <tr>\n",
              "      <th>21612</th>\n",
              "      <td>2</td>\n",
              "      <td>0.75</td>\n",
              "      <td>1020</td>\n",
              "      <td>1076</td>\n",
              "      <td>2.0</td>\n",
              "      <td>3</td>\n",
              "      <td>7</td>\n",
              "    </tr>\n",
              "  </tbody>\n",
              "</table>\n",
              "<p>21613 rows × 7 columns</p>\n",
              "</div>"
            ],
            "text/plain": [
              "       bedrooms  bathrooms  sqft_living  sqft_lot  floors  condition  grade\n",
              "0             3       1.00         1180      5650     1.0          3      7\n",
              "1             3       2.25         2570      7242     2.0          3      7\n",
              "2             2       1.00          770     10000     1.0          3      6\n",
              "3             4       3.00         1960      5000     1.0          5      7\n",
              "4             3       2.00         1680      8080     1.0          3      8\n",
              "...         ...        ...          ...       ...     ...        ...    ...\n",
              "21608         3       2.50         1530      1131     3.0          3      8\n",
              "21609         4       2.50         2310      5813     2.0          3      8\n",
              "21610         2       0.75         1020      1350     2.0          3      7\n",
              "21611         3       2.50         1600      2388     2.0          3      8\n",
              "21612         2       0.75         1020      1076     2.0          3      7\n",
              "\n",
              "[21613 rows x 7 columns]"
            ]
          },
          "metadata": {
            "tags": []
          },
          "execution_count": 9
        }
      ]
    },
    {
      "cell_type": "code",
      "metadata": {
        "id": "o_FNF8v2TxLC",
        "colab_type": "code",
        "colab": {}
      },
      "source": [
        "output = df[['price']]"
      ],
      "execution_count": 0,
      "outputs": []
    },
    {
      "cell_type": "code",
      "metadata": {
        "id": "SEO_7TTNWdoC",
        "colab_type": "code",
        "colab": {
          "base_uri": "https://localhost:8080/",
          "height": 391
        },
        "outputId": "0fe97db1-f0b3-424c-95ca-b03d9ad771bd"
      },
      "source": [
        "output"
      ],
      "execution_count": 11,
      "outputs": [
        {
          "output_type": "execute_result",
          "data": {
            "text/html": [
              "<div>\n",
              "<style scoped>\n",
              "    .dataframe tbody tr th:only-of-type {\n",
              "        vertical-align: middle;\n",
              "    }\n",
              "\n",
              "    .dataframe tbody tr th {\n",
              "        vertical-align: top;\n",
              "    }\n",
              "\n",
              "    .dataframe thead th {\n",
              "        text-align: right;\n",
              "    }\n",
              "</style>\n",
              "<table border=\"1\" class=\"dataframe\">\n",
              "  <thead>\n",
              "    <tr style=\"text-align: right;\">\n",
              "      <th></th>\n",
              "      <th>price</th>\n",
              "    </tr>\n",
              "  </thead>\n",
              "  <tbody>\n",
              "    <tr>\n",
              "      <th>0</th>\n",
              "      <td>221900.0</td>\n",
              "    </tr>\n",
              "    <tr>\n",
              "      <th>1</th>\n",
              "      <td>538000.0</td>\n",
              "    </tr>\n",
              "    <tr>\n",
              "      <th>2</th>\n",
              "      <td>180000.0</td>\n",
              "    </tr>\n",
              "    <tr>\n",
              "      <th>3</th>\n",
              "      <td>604000.0</td>\n",
              "    </tr>\n",
              "    <tr>\n",
              "      <th>4</th>\n",
              "      <td>510000.0</td>\n",
              "    </tr>\n",
              "    <tr>\n",
              "      <th>...</th>\n",
              "      <td>...</td>\n",
              "    </tr>\n",
              "    <tr>\n",
              "      <th>21608</th>\n",
              "      <td>360000.0</td>\n",
              "    </tr>\n",
              "    <tr>\n",
              "      <th>21609</th>\n",
              "      <td>400000.0</td>\n",
              "    </tr>\n",
              "    <tr>\n",
              "      <th>21610</th>\n",
              "      <td>402101.0</td>\n",
              "    </tr>\n",
              "    <tr>\n",
              "      <th>21611</th>\n",
              "      <td>400000.0</td>\n",
              "    </tr>\n",
              "    <tr>\n",
              "      <th>21612</th>\n",
              "      <td>325000.0</td>\n",
              "    </tr>\n",
              "  </tbody>\n",
              "</table>\n",
              "<p>21613 rows × 1 columns</p>\n",
              "</div>"
            ],
            "text/plain": [
              "          price\n",
              "0      221900.0\n",
              "1      538000.0\n",
              "2      180000.0\n",
              "3      604000.0\n",
              "4      510000.0\n",
              "...         ...\n",
              "21608  360000.0\n",
              "21609  400000.0\n",
              "21610  402101.0\n",
              "21611  400000.0\n",
              "21612  325000.0\n",
              "\n",
              "[21613 rows x 1 columns]"
            ]
          },
          "metadata": {
            "tags": []
          },
          "execution_count": 11
        }
      ]
    },
    {
      "cell_type": "code",
      "metadata": {
        "id": "wqW51V1TXaWX",
        "colab_type": "code",
        "colab": {}
      },
      "source": [
        "input = input.values"
      ],
      "execution_count": 0,
      "outputs": []
    },
    {
      "cell_type": "code",
      "metadata": {
        "id": "hiagEi0VXhIX",
        "colab_type": "code",
        "colab": {
          "base_uri": "https://localhost:8080/",
          "height": 131
        },
        "outputId": "f4399f9d-ee4e-488b-b9cb-ef8b4b6de8b2"
      },
      "source": [
        "input"
      ],
      "execution_count": 13,
      "outputs": [
        {
          "output_type": "execute_result",
          "data": {
            "text/plain": [
              "array([[3.00e+00, 1.00e+00, 1.18e+03, ..., 1.00e+00, 3.00e+00, 7.00e+00],\n",
              "       [3.00e+00, 2.25e+00, 2.57e+03, ..., 2.00e+00, 3.00e+00, 7.00e+00],\n",
              "       [2.00e+00, 1.00e+00, 7.70e+02, ..., 1.00e+00, 3.00e+00, 6.00e+00],\n",
              "       ...,\n",
              "       [2.00e+00, 7.50e-01, 1.02e+03, ..., 2.00e+00, 3.00e+00, 7.00e+00],\n",
              "       [3.00e+00, 2.50e+00, 1.60e+03, ..., 2.00e+00, 3.00e+00, 8.00e+00],\n",
              "       [2.00e+00, 7.50e-01, 1.02e+03, ..., 2.00e+00, 3.00e+00, 7.00e+00]])"
            ]
          },
          "metadata": {
            "tags": []
          },
          "execution_count": 13
        }
      ]
    },
    {
      "cell_type": "code",
      "metadata": {
        "id": "dKpH6MKJXozU",
        "colab_type": "code",
        "colab": {}
      },
      "source": [
        "output = output.values"
      ],
      "execution_count": 0,
      "outputs": []
    },
    {
      "cell_type": "code",
      "metadata": {
        "id": "lyl-5EwZXv3d",
        "colab_type": "code",
        "colab": {
          "base_uri": "https://localhost:8080/",
          "height": 131
        },
        "outputId": "8ab5b803-3f98-44ac-8b1f-5b645040457b"
      },
      "source": [
        "output"
      ],
      "execution_count": 15,
      "outputs": [
        {
          "output_type": "execute_result",
          "data": {
            "text/plain": [
              "array([[221900.],\n",
              "       [538000.],\n",
              "       [180000.],\n",
              "       ...,\n",
              "       [402101.],\n",
              "       [400000.],\n",
              "       [325000.]])"
            ]
          },
          "metadata": {
            "tags": []
          },
          "execution_count": 15
        }
      ]
    },
    {
      "cell_type": "code",
      "metadata": {
        "id": "1AqeEsslWiZ5",
        "colab_type": "code",
        "colab": {}
      },
      "source": [
        "from sklearn.preprocessing import StandardScaler\n",
        "s_input = StandardScaler()\n",
        "input = s_input.fit_transform(input)\n",
        "s_output = StandardScaler()\n",
        "output = s_output.fit_transform(output)"
      ],
      "execution_count": 0,
      "outputs": []
    },
    {
      "cell_type": "code",
      "metadata": {
        "id": "JuisphL8XU-k",
        "colab_type": "code",
        "colab": {
          "base_uri": "https://localhost:8080/",
          "height": 228
        },
        "outputId": "dd941dbb-a953-4a08-db6d-e479fcea720f"
      },
      "source": [
        "input"
      ],
      "execution_count": 17,
      "outputs": [
        {
          "output_type": "execute_result",
          "data": {
            "text/plain": [
              "array([[-0.39873715, -1.44746357, -0.97983502, ..., -0.915427  ,\n",
              "        -0.62918687, -0.55883575],\n",
              "       [-0.39873715,  0.1756067 ,  0.53363434, ...,  0.93650577,\n",
              "        -0.62918687, -0.55883575],\n",
              "       [-1.47395936, -1.44746357, -1.42625404, ..., -0.915427  ,\n",
              "        -0.62918687, -1.40958711],\n",
              "       ...,\n",
              "       [-1.47395936, -1.77207762, -1.15404732, ...,  0.93650577,\n",
              "        -0.62918687, -0.55883575],\n",
              "       [-0.39873715,  0.50022075, -0.52252773, ...,  0.93650577,\n",
              "        -0.62918687,  0.29191561],\n",
              "       [-1.47395936, -1.77207762, -1.15404732, ...,  0.93650577,\n",
              "        -0.62918687, -0.55883575]])"
            ]
          },
          "metadata": {
            "tags": []
          },
          "execution_count": 17
        }
      ]
    },
    {
      "cell_type": "code",
      "metadata": {
        "id": "j9TO3OV0XWMU",
        "colab_type": "code",
        "colab": {
          "base_uri": "https://localhost:8080/",
          "height": 131
        },
        "outputId": "cbe8c395-3b8b-4a9c-8634-36765650726a"
      },
      "source": [
        "output"
      ],
      "execution_count": 18,
      "outputs": [
        {
          "output_type": "execute_result",
          "data": {
            "text/plain": [
              "array([[-0.86671733],\n",
              "       [-0.00568792],\n",
              "       [-0.98084935],\n",
              "       ...,\n",
              "       [-0.37586519],\n",
              "       [-0.38158814],\n",
              "       [-0.58588173]])"
            ]
          },
          "metadata": {
            "tags": []
          },
          "execution_count": 18
        }
      ]
    },
    {
      "cell_type": "code",
      "metadata": {
        "id": "RrnnxWUVXXZ6",
        "colab_type": "code",
        "colab": {}
      },
      "source": [
        "from sklearn.model_selection import train_test_split\n",
        "X_train,X_test,y_train,y_test = train_test_split(input,output,test_size=.2,random_state=0)"
      ],
      "execution_count": 0,
      "outputs": []
    },
    {
      "cell_type": "code",
      "metadata": {
        "id": "UWoSfcI7Ymic",
        "colab_type": "code",
        "colab": {
          "base_uri": "https://localhost:8080/",
          "height": 228
        },
        "outputId": "03834935-6613-4628-aed0-3f3522b40e95"
      },
      "source": [
        "X_train"
      ],
      "execution_count": 20,
      "outputs": [
        {
          "output_type": "execute_result",
          "data": {
            "text/plain": [
              "array([[-0.39873715, -1.44746357, -0.55519254, ..., -0.915427  ,\n",
              "         0.90755354, -0.55883575],\n",
              "       [-0.39873715,  0.50022075, -0.32653889, ..., -0.915427  ,\n",
              "         0.90755354,  0.29191561],\n",
              "       [-0.39873715, -0.79823546, -1.07782944, ..., -0.915427  ,\n",
              "        -0.62918687,  0.29191561],\n",
              "       ...,\n",
              "       [-0.39873715,  0.1756067 ,  0.3049807 , ..., -0.915427  ,\n",
              "         0.90755354,  1.14266697],\n",
              "       [ 0.67648506, -0.14900736,  0.31586896, ...,  0.93650577,\n",
              "         0.90755354,  0.29191561],\n",
              "       [ 0.67648506,  0.1756067 ,  0.32675723, ..., -0.915427  ,\n",
              "        -0.62918687, -0.55883575]])"
            ]
          },
          "metadata": {
            "tags": []
          },
          "execution_count": 20
        }
      ]
    },
    {
      "cell_type": "markdown",
      "metadata": {
        "id": "uyhS1wyfaNSc",
        "colab_type": "text"
      },
      "source": [
        "keras model creation\n"
      ]
    },
    {
      "cell_type": "code",
      "metadata": {
        "id": "mwiSFLh5YoR8",
        "colab_type": "code",
        "colab": {
          "base_uri": "https://localhost:8080/",
          "height": 33
        },
        "outputId": "a67469d1-1528-4c6a-a173-9ed21f59dac9"
      },
      "source": [
        "from keras.models import Sequential\n",
        "from keras.layers import Dense,Dropout\n",
        "from keras.optimizers import Adam\n",
        "from sklearn.metrics import mean_absolute_error\n",
        "from keras import layers, metrics\n",
        "import keras"
      ],
      "execution_count": 21,
      "outputs": [
        {
          "output_type": "stream",
          "text": [
            "Using TensorFlow backend.\n"
          ],
          "name": "stderr"
        }
      ]
    },
    {
      "cell_type": "code",
      "metadata": {
        "id": "5kaypjczc_c3",
        "colab_type": "code",
        "colab": {
          "base_uri": "https://localhost:8080/",
          "height": 33
        },
        "outputId": "36bbed94-2f98-4bd7-92d3-3180d4babea2"
      },
      "source": [
        "!pip3 install 'gast==0.2.2'\n",
        "try:\n",
        "  %tensorflow_version 2.x\n",
        "except Exception:\n",
        "  pass"
      ],
      "execution_count": 22,
      "outputs": [
        {
          "output_type": "stream",
          "text": [
            "Requirement already satisfied: gast==0.2.2 in /usr/local/lib/python3.6/dist-packages (0.2.2)\n"
          ],
          "name": "stdout"
        }
      ]
    },
    {
      "cell_type": "code",
      "metadata": {
        "id": "eFm3mMakafHG",
        "colab_type": "code",
        "colab": {}
      },
      "source": [
        "network = Sequential()\n",
        "network.add(Dense(18, activation=\"relu\",input_shape=(7,)))\n",
        "network.add(Dropout(0.3))\n",
        "network.add(Dense(9, activation=\"relu\"))\n",
        "network.add(Dropout(0.1))\n",
        "network.add(Dense(3, activation=\"relu\"))\n",
        "network.add(Dense(1))"
      ],
      "execution_count": 0,
      "outputs": []
    },
    {
      "cell_type": "code",
      "metadata": {
        "id": "OpxOjgDYcfU1",
        "colab_type": "code",
        "colab": {
          "base_uri": "https://localhost:8080/",
          "height": 358
        },
        "outputId": "dd12e242-25d2-49ec-d51d-f3dcd2080353"
      },
      "source": [
        "network.compile(loss='mean_squared_error', optimizer=Adam(), metrics=[metrics.mae])\n",
        "print(network.summary())"
      ],
      "execution_count": 25,
      "outputs": [
        {
          "output_type": "stream",
          "text": [
            "Model: \"sequential_2\"\n",
            "_________________________________________________________________\n",
            "Layer (type)                 Output Shape              Param #   \n",
            "=================================================================\n",
            "dense_2 (Dense)              (None, 18)                144       \n",
            "_________________________________________________________________\n",
            "dropout_1 (Dropout)          (None, 18)                0         \n",
            "_________________________________________________________________\n",
            "dense_3 (Dense)              (None, 9)                 171       \n",
            "_________________________________________________________________\n",
            "dropout_2 (Dropout)          (None, 9)                 0         \n",
            "_________________________________________________________________\n",
            "dense_4 (Dense)              (None, 3)                 30        \n",
            "_________________________________________________________________\n",
            "dense_5 (Dense)              (None, 1)                 4         \n",
            "=================================================================\n",
            "Total params: 349\n",
            "Trainable params: 349\n",
            "Non-trainable params: 0\n",
            "_________________________________________________________________\n",
            "None\n"
          ],
          "name": "stdout"
        }
      ]
    },
    {
      "cell_type": "code",
      "metadata": {
        "id": "xzLDOurpf2ut",
        "colab_type": "code",
        "colab": {
          "base_uri": "https://localhost:8080/",
          "height": 992
        },
        "outputId": "2e4aa6d5-2625-483b-d76a-342632079bcc"
      },
      "source": [
        "network.fit(X_train, y_train, epochs=30, batch_size = 32, shuffle=True)\n",
        "\n",
        "train_score = network.evaluate(X_train, y_train, verbose=0)\n",
        "valid_score = network.evaluate(X_test, y_test, verbose=0)"
      ],
      "execution_count": 26,
      "outputs": [
        {
          "output_type": "stream",
          "text": [
            "Epoch 1/30\n",
            "17290/17290 [==============================] - 1s 47us/step - loss: 0.6164 - mean_absolute_error: 0.5212\n",
            "Epoch 2/30\n",
            "17290/17290 [==============================] - 1s 38us/step - loss: 0.4986 - mean_absolute_error: 0.4549\n",
            "Epoch 3/30\n",
            "17290/17290 [==============================] - 1s 37us/step - loss: 0.4724 - mean_absolute_error: 0.4415\n",
            "Epoch 4/30\n",
            "17290/17290 [==============================] - 1s 38us/step - loss: 0.4692 - mean_absolute_error: 0.4366\n",
            "Epoch 5/30\n",
            "17290/17290 [==============================] - 1s 37us/step - loss: 0.4314 - mean_absolute_error: 0.4282\n",
            "Epoch 6/30\n",
            "17290/17290 [==============================] - 1s 37us/step - loss: 0.4373 - mean_absolute_error: 0.4269\n",
            "Epoch 7/30\n",
            "17290/17290 [==============================] - 1s 37us/step - loss: 0.4200 - mean_absolute_error: 0.4216\n",
            "Epoch 8/30\n",
            "17290/17290 [==============================] - 1s 38us/step - loss: 0.4269 - mean_absolute_error: 0.4210\n",
            "Epoch 9/30\n",
            "17290/17290 [==============================] - 1s 38us/step - loss: 0.4171 - mean_absolute_error: 0.4185\n",
            "Epoch 10/30\n",
            "17290/17290 [==============================] - 1s 38us/step - loss: 0.4198 - mean_absolute_error: 0.4176\n",
            "Epoch 11/30\n",
            "17290/17290 [==============================] - 1s 38us/step - loss: 0.4153 - mean_absolute_error: 0.4136\n",
            "Epoch 12/30\n",
            "17290/17290 [==============================] - 1s 37us/step - loss: 0.4188 - mean_absolute_error: 0.4137\n",
            "Epoch 13/30\n",
            "17290/17290 [==============================] - 1s 38us/step - loss: 0.4021 - mean_absolute_error: 0.4112\n",
            "Epoch 14/30\n",
            "17290/17290 [==============================] - 1s 37us/step - loss: 0.4084 - mean_absolute_error: 0.4127\n",
            "Epoch 15/30\n",
            "17290/17290 [==============================] - 1s 38us/step - loss: 0.4025 - mean_absolute_error: 0.4111\n",
            "Epoch 16/30\n",
            "17290/17290 [==============================] - 1s 38us/step - loss: 0.3981 - mean_absolute_error: 0.4101\n",
            "Epoch 17/30\n",
            "17290/17290 [==============================] - 1s 37us/step - loss: 0.4062 - mean_absolute_error: 0.4093\n",
            "Epoch 18/30\n",
            "17290/17290 [==============================] - 1s 38us/step - loss: 0.3935 - mean_absolute_error: 0.4096\n",
            "Epoch 19/30\n",
            "17290/17290 [==============================] - 1s 38us/step - loss: 0.3925 - mean_absolute_error: 0.4080\n",
            "Epoch 20/30\n",
            "17290/17290 [==============================] - 1s 37us/step - loss: 0.3966 - mean_absolute_error: 0.4091\n",
            "Epoch 21/30\n",
            "17290/17290 [==============================] - 1s 38us/step - loss: 0.3997 - mean_absolute_error: 0.4079\n",
            "Epoch 22/30\n",
            "17290/17290 [==============================] - 1s 37us/step - loss: 0.3964 - mean_absolute_error: 0.4077\n",
            "Epoch 23/30\n",
            "17290/17290 [==============================] - 1s 37us/step - loss: 0.3955 - mean_absolute_error: 0.4076\n",
            "Epoch 24/30\n",
            "17290/17290 [==============================] - 1s 37us/step - loss: 0.3911 - mean_absolute_error: 0.4089\n",
            "Epoch 25/30\n",
            "17290/17290 [==============================] - 1s 37us/step - loss: 0.3905 - mean_absolute_error: 0.4079\n",
            "Epoch 26/30\n",
            "17290/17290 [==============================] - 1s 38us/step - loss: 0.3909 - mean_absolute_error: 0.4064\n",
            "Epoch 27/30\n",
            "17290/17290 [==============================] - 1s 38us/step - loss: 0.3920 - mean_absolute_error: 0.4080\n",
            "Epoch 28/30\n",
            "17290/17290 [==============================] - 1s 38us/step - loss: 0.3948 - mean_absolute_error: 0.4084\n",
            "Epoch 29/30\n",
            "17290/17290 [==============================] - 1s 39us/step - loss: 0.3960 - mean_absolute_error: 0.4086\n",
            "Epoch 30/30\n",
            "17290/17290 [==============================] - 1s 37us/step - loss: 0.3853 - mean_absolute_error: 0.4064\n"
          ],
          "name": "stdout"
        }
      ]
    },
    {
      "cell_type": "code",
      "metadata": {
        "id": "rG4kUQhngb5i",
        "colab_type": "code",
        "colab": {}
      },
      "source": [
        "import matplotlib.pyplot as plt\n"
      ],
      "execution_count": 0,
      "outputs": []
    },
    {
      "cell_type": "code",
      "metadata": {
        "id": "g2FQdWlhiuvw",
        "colab_type": "code",
        "colab": {}
      },
      "source": [
        "input1 = df[['bedrooms','bathrooms','sqft_living','sqft_lot','floors','condition','grade']]\n",
        "output1 = df[['price']]\n",
        "X_train1,X_test1,y_train1,y_test1 = train_test_split(input1,output1,test_size=.2,random_state=0)"
      ],
      "execution_count": 0,
      "outputs": []
    },
    {
      "cell_type": "code",
      "metadata": {
        "id": "K3PmvlyMh9kW",
        "colab_type": "code",
        "colab": {
          "base_uri": "https://localhost:8080/",
          "height": 413
        },
        "outputId": "53813de6-9f53-4e9b-8531-fceecb29a10d"
      },
      "source": [
        "#using linear regression - \n",
        "from sklearn.linear_model import LinearRegression\n",
        "lm = LinearRegression()\n",
        "lm.fit(X_train1,y_train1)\n",
        "predictions = lm.predict(X_test1)\n",
        "plt.figure(figsize=(10,6))\n",
        "ax = plt.scatter(y_test1,predictions)\n",
        "plt.xlim(0,2000000)"
      ],
      "execution_count": 32,
      "outputs": [
        {
          "output_type": "execute_result",
          "data": {
            "text/plain": [
              "(0.0, 2000000.0)"
            ]
          },
          "metadata": {
            "tags": []
          },
          "execution_count": 32
        },
        {
          "output_type": "display_data",
          "data": {
            "image/png": "[encoded data removed]",
            "text/plain": [
              "<Figure size 720x432 with 1 Axes>"
            ]
          },
          "metadata": {
            "tags": [],
            "needs_background": "light"
          }
        }
      ]
    },
    {
      "cell_type": "code",
      "metadata": {
        "id": "_EweVcxliCSB",
        "colab_type": "code",
        "colab": {}
      },
      "source": [
        ""
      ],
      "execution_count": 0,
      "outputs": []
    }
  ]
}