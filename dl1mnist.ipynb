{
  "nbformat": 4,
  "nbformat_minor": 0,
  "metadata": {
    "colab": {
      "name": "dl1mnist.ipynb",
      "provenance": [],
      "include_colab_link": true
    },
    "kernelspec": {
      "name": "python3",
      "display_name": "Python 3"
    },
    "accelerator": "GPU"
  },
  "cells": [
    {
      "cell_type": "markdown",
      "metadata": {
        "id": "view-in-github",
        "colab_type": "text"
      },
      "source": [
        "<a href=\"https://colab.research.google.com/github/LokeshVadlamudi/DeepLearningClass/blob/master/dl1mnist.ipynb\" target=\"_parent\"><img src=\"https://colab.research.google.com/assets/colab-badge.svg\" alt=\"Open In Colab\"/></a>"
      ]
    },
    {
      "cell_type": "markdown",
      "metadata": {
        "id": "I-2nbIhRB2J_",
        "colab_type": "text"
      },
      "source": [
        "#Importing the libraries"
      ]
    },
    {
      "cell_type": "code",
      "metadata": {
        "id": "mEfAydpgznAU",
        "colab_type": "code",
        "colab": {}
      },
      "source": [
        "import numpy as np"
      ],
      "execution_count": 0,
      "outputs": []
    },
    {
      "cell_type": "code",
      "metadata": {
        "id": "KL-vFNHE3xsW",
        "colab_type": "code",
        "colab": {}
      },
      "source": [
        "from keras.datasets import mnist"
      ],
      "execution_count": 0,
      "outputs": []
    },
    {
      "cell_type": "markdown",
      "metadata": {
        "id": "AbONqvVVBnD5",
        "colab_type": "text"
      },
      "source": [
        "#Loading the dataset"
      ]
    },
    {
      "cell_type": "code",
      "metadata": {
        "id": "s0SqMAp5Kl2O",
        "colab_type": "code",
        "colab": {}
      },
      "source": [
        "from keras.preprocessing.image import ImageDataGenerator\n",
        "\n",
        "(X_train, Y_train), (X_test, Y_test) = mnist.load_data()\n",
        "X_train = X_train.reshape((X_train.shape[0], 28, 28, 1))\n",
        "X_test = X_test.reshape((X_test.shape[0], 28, 28, 1))\n",
        "\n",
        "\n",
        "X_train = X_train.astype('float32')\n",
        "X_test = X_test.astype('float32')"
      ],
      "execution_count": 0,
      "outputs": []
    },
    {
      "cell_type": "markdown",
      "metadata": {
        "id": "mZIKu2Rq-isi",
        "colab_type": "text"
      },
      "source": [
        "#Data Augmentation"
      ]
    },
    {
      "cell_type": "code",
      "metadata": {
        "id": "flfaW7pv-fim",
        "colab_type": "code",
        "colab": {}
      },
      "source": [
        "X_train = X_train[0:10000]\n",
        "Y_train = Y_train[0:10000]\n",
        "\n",
        "#preparing data for rotation \n",
        "a=X_train[0:1000]\n",
        "b=Y_train[0:1000]\n",
        "\n",
        "datagen = ImageDataGenerator(rotation_range=90)\n",
        "datagen.fit(X_train)\n",
        "complete= datagen.flow(a, b,batch_size=len(a))"
      ],
      "execution_count": 0,
      "outputs": []
    },
    {
      "cell_type": "markdown",
      "metadata": {
        "id": "9k8Xq1XFC4EP",
        "colab_type": "text"
      },
      "source": [
        "#now lets concatenate both the augmented data and original data to training input and output set"
      ]
    },
    {
      "cell_type": "code",
      "metadata": {
        "id": "V0q4G5lwKnoD",
        "colab_type": "code",
        "colab": {}
      },
      "source": [
        "for images,labels in complete:\n",
        "  x_train = np.concatenate((X_train,images),axis = 0)\n",
        "  y_train = np.concatenate((Y_train,labels),axis = 0)\n",
        "  break\n"
      ],
      "execution_count": 0,
      "outputs": []
    },
    {
      "cell_type": "markdown",
      "metadata": {
        "id": "2uFN7kzaB7dk",
        "colab_type": "text"
      },
      "source": [
        "#Normalizing the data inputs"
      ]
    },
    {
      "cell_type": "code",
      "metadata": {
        "id": "yOglV1oH3-pZ",
        "colab_type": "code",
        "colab": {}
      },
      "source": [
        "inputImgs, outputlabels = (x_train[0:11000].reshape(11000,28*28))/255,y_train[0:11000]"
      ],
      "execution_count": 0,
      "outputs": []
    },
    {
      "cell_type": "markdown",
      "metadata": {
        "id": "G_M2JSr4CBLi",
        "colab_type": "text"
      },
      "source": [
        "#One Hot encoding the output labels"
      ]
    },
    {
      "cell_type": "code",
      "metadata": {
        "id": "WRiyRSsT4NUS",
        "colab_type": "code",
        "colab": {}
      },
      "source": [
        "hotLabels = np.zeros((len(outputlabels),10))\n"
      ],
      "execution_count": 0,
      "outputs": []
    },
    {
      "cell_type": "code",
      "metadata": {
        "id": "pIs2S-k14SSz",
        "colab_type": "code",
        "colab": {}
      },
      "source": [
        "for i,l in enumerate(outputlabels):\n",
        "  hotLabels[i][l] = 1\n",
        "outputlabels = hotLabels"
      ],
      "execution_count": 0,
      "outputs": []
    },
    {
      "cell_type": "code",
      "metadata": {
        "id": "W51EN1tX4eu0",
        "colab_type": "code",
        "colab": {}
      },
      "source": [
        "test_images = x_test.reshape(len(x_test),28*28)/255\n",
        "test_labels = np.zeros((len(y_test),10))\n"
      ],
      "execution_count": 0,
      "outputs": []
    },
    {
      "cell_type": "code",
      "metadata": {
        "id": "_DrC7YPB4qUM",
        "colab_type": "code",
        "colab": {}
      },
      "source": [
        "for i,l in enumerate(y_test):\n",
        "  test_labels[i][l] = 1"
      ],
      "execution_count": 0,
      "outputs": []
    },
    {
      "cell_type": "code",
      "metadata": {
        "id": "pi6g-2BjKi7g",
        "colab_type": "code",
        "colab": {}
      },
      "source": [
        ""
      ],
      "execution_count": 0,
      "outputs": []
    },
    {
      "cell_type": "markdown",
      "metadata": {
        "id": "rs3FH1mCCUZI",
        "colab_type": "text"
      },
      "source": [
        "#Used Different Activation functions ( added relu , tanh and softmax)"
      ]
    },
    {
      "cell_type": "code",
      "metadata": {
        "id": "RhJHVfDH4y3G",
        "colab_type": "code",
        "colab": {}
      },
      "source": [
        "def tanh(x):\n",
        "  return np.tanh(x)"
      ],
      "execution_count": 0,
      "outputs": []
    },
    {
      "cell_type": "code",
      "metadata": {
        "id": "fazrEwM243ms",
        "colab_type": "code",
        "colab": {}
      },
      "source": [
        "def tanh2deriv(output):\n",
        "  return 1 - (output ** 2)"
      ],
      "execution_count": 0,
      "outputs": []
    },
    {
      "cell_type": "code",
      "metadata": {
        "id": "r8uRgG9gbN9E",
        "colab_type": "code",
        "colab": {}
      },
      "source": [
        "def relu(x):\n",
        "  return (x>=0)*x"
      ],
      "execution_count": 0,
      "outputs": []
    },
    {
      "cell_type": "code",
      "metadata": {
        "id": "WuYE1vmPbPce",
        "colab_type": "code",
        "colab": {}
      },
      "source": [
        "def relu2deriv(x):\n",
        "  return x>=0"
      ],
      "execution_count": 0,
      "outputs": []
    },
    {
      "cell_type": "code",
      "metadata": {
        "id": "dCFLLGQW48rN",
        "colab_type": "code",
        "colab": {}
      },
      "source": [
        "def softmax(x):\n",
        "  temp = np.exp(x)\n",
        "  return temp / np.sum(temp,axis = 1, keepdims = True)"
      ],
      "execution_count": 0,
      "outputs": []
    },
    {
      "cell_type": "markdown",
      "metadata": {
        "id": "Q71y5tQEBYfl",
        "colab_type": "text"
      },
      "source": [
        "#Number of iterations, and different hidden layer sizes"
      ]
    },
    {
      "cell_type": "code",
      "metadata": {
        "id": "RssmQMjT5GNK",
        "colab_type": "code",
        "colab": {}
      },
      "source": [
        "iterations , hidden_size, hidden_size1 = (100,200,100)"
      ],
      "execution_count": 0,
      "outputs": []
    },
    {
      "cell_type": "markdown",
      "metadata": {
        "id": "Ts0O5-OkVNiB",
        "colab_type": "text"
      },
      "source": [
        "#different learning rates for different layers"
      ]
    },
    {
      "cell_type": "code",
      "metadata": {
        "id": "yZrQ1-iDVRm5",
        "colab_type": "code",
        "colab": {}
      },
      "source": [
        "alpha,beta,gamma = 2,3,1"
      ],
      "execution_count": 0,
      "outputs": []
    },
    {
      "cell_type": "markdown",
      "metadata": {
        "id": "GpuDHSkmBOkc",
        "colab_type": "text"
      },
      "source": [
        "#Initial input and number of output labels"
      ]
    },
    {
      "cell_type": "code",
      "metadata": {
        "id": "4ANn3SqV5LPT",
        "colab_type": "code",
        "colab": {}
      },
      "source": [
        "inputPixels , num_labels = (784,10)"
      ],
      "execution_count": 0,
      "outputs": []
    },
    {
      "cell_type": "markdown",
      "metadata": {
        "id": "C8v8wqeDBFbW",
        "colab_type": "text"
      },
      "source": [
        "#batch size for stochastic mini-batch gradient descent"
      ]
    },
    {
      "cell_type": "code",
      "metadata": {
        "id": "papJiWuC5PE2",
        "colab_type": "code",
        "colab": {}
      },
      "source": [
        "batch_size = 100"
      ],
      "execution_count": 0,
      "outputs": []
    },
    {
      "cell_type": "markdown",
      "metadata": {
        "id": "wlfUt-jYA88T",
        "colab_type": "text"
      },
      "source": [
        "#Weights between layer_0 and layer_1"
      ]
    },
    {
      "cell_type": "code",
      "metadata": {
        "id": "1vV6ZcJO5Qg3",
        "colab_type": "code",
        "colab": {}
      },
      "source": [
        "weights_0_1 = 0.2*np.random.random((inputPixels,hidden_size))-0.1"
      ],
      "execution_count": 0,
      "outputs": []
    },
    {
      "cell_type": "markdown",
      "metadata": {
        "id": "anuEI2IkBAho",
        "colab_type": "text"
      },
      "source": [
        "#weights between layer_1 and layer_2"
      ]
    },
    {
      "cell_type": "code",
      "metadata": {
        "id": "Prgd1K-u5aGJ",
        "colab_type": "code",
        "colab": {}
      },
      "source": [
        "weights_1_2 = 0.2*np.random.random((hidden_size,hidden_size1))-0.1"
      ],
      "execution_count": 0,
      "outputs": []
    },
    {
      "cell_type": "markdown",
      "metadata": {
        "id": "Gd-Waa0DAyI6",
        "colab_type": "text"
      },
      "source": [
        "#Added additional weights for extra layer"
      ]
    },
    {
      "cell_type": "code",
      "metadata": {
        "id": "tTGjLJ6A9FL_",
        "colab_type": "code",
        "colab": {}
      },
      "source": [
        "weights_2_3 = 0.2 * np.random.random((hidden_size1,num_labels)) - 0.1"
      ],
      "execution_count": 0,
      "outputs": []
    },
    {
      "cell_type": "markdown",
      "metadata": {
        "id": "akTBE4FaArnU",
        "colab_type": "text"
      },
      "source": [
        "#Added an extra layer to make it three layer Neural Network."
      ]
    },
    {
      "cell_type": "code",
      "metadata": {
        "id": "B19ROTJa5jCB",
        "colab_type": "code",
        "outputId": "4a4e30f3-7cd1-4565-f1e1-e91b406b818f",
        "colab": {
          "base_uri": "https://localhost:8080/",
          "height": 180
        }
      },
      "source": [
        "for j in range(iterations):\n",
        "  correct_cnt = 0\n",
        "\n",
        "\n",
        "  for i in range(int(len(inputImgs) / batch_size)):\n",
        "\n",
        "\n",
        "    batch_start, batch_end = ((i * batch_size), ((i + 1)*batch_size))\n",
        "    layer_0 = inputImgs[batch_start:batch_end]\n",
        "\n",
        "    layer_1 = tanh(np.dot(layer_0,weights_0_1))\n",
        "\n",
        "    #drop out mask on layer 1\n",
        "    dropout_mask = np.random.randint(2,size=layer_1.shape)\n",
        "    layer_1 *= dropout_mask*2\n",
        "\n",
        "    layer_2 = relu(np.dot(layer_1,weights_1_2))\n",
        "\n",
        "    #drop out mask on layer 2\n",
        "    dropout_mask = np.random.randint(2,size=layer_2.shape)\n",
        "    layer_2 *= dropout_mask*2\n",
        "\n",
        "    layer_3 = softmax(np.dot(layer_2,weights_2_3))\n",
        "\n",
        "    for k in range(batch_size):\n",
        "      correct_cnt += int(np.argmax(layer_3[k:k+1])== np.argmax(outputlabels[batch_start+k:batch_start+k+1]))\n",
        "    \n",
        "    layer_3_delta = (outputlabels[batch_start:batch_end] - layer_3) / (batch_size * layer_3.shape[0])\n",
        "    layer_2_delta = layer_3_delta.dot(weights_2_3.T) * relu2deriv(layer_2)\n",
        "    layer_1_delta = layer_2_delta.dot(weights_1_2.T) * tanh2deriv(layer_1)\n",
        "\n",
        "\n",
        "    weights_2_3 += gamma * layer_2.T.dot(layer_3_delta)\n",
        "    weights_1_2 += beta * layer_1.T.dot(layer_2_delta)\n",
        "    weights_0_1 += alpha * layer_0.T.dot(layer_1_delta)\n",
        "\n",
        "  test_correct_cnt = 0\n",
        "  \n",
        "  for i in range(len(test_images)):\n",
        "    Ypred = []\n",
        "    Ylabels = []\n",
        "    layer_0 = test_images[i:i+1]\n",
        "    layer_1 = tanh(np.dot(layer_0,weights_0_1))\n",
        "    layer_2 = relu(np.dot(layer_1,weights_1_2))\n",
        "    layer_3 = np.dot(layer_2,weights_2_3)\n",
        "    \n",
        "\n",
        "    test_correct_cnt += int(np.argmax(layer_3) == np.argmax(test_labels[i:i+1]))\n",
        "    Ypred += [int(np.argmax(layer_3))]\n",
        "    Ylabels += [np.argmax(test_labels[i:i+1])]\n",
        "  \n",
        "  if(j % 10 == 0):\n",
        "    print(str(j) + \" test_acc\" + str(test_correct_cnt/float(len(test_images))) + \" Train_acc\" + str(correct_cnt/float(len(inputImgs))))\n",
        "\n",
        "\n",
        "\n",
        "\n",
        "\n"
      ],
      "execution_count": 224,
      "outputs": [
        {
          "output_type": "stream",
          "text": [
            "0 test_acc0.6793 Train_acc0.2801818181818182\n",
            "10 test_acc0.8813 Train_acc0.7899090909090909\n",
            "20 test_acc0.9016 Train_acc0.8271818181818181\n",
            "30 test_acc0.913 Train_acc0.839\n",
            "40 test_acc0.923 Train_acc0.849909090909091\n",
            "50 test_acc0.9263 Train_acc0.8492727272727273\n",
            "60 test_acc0.9254 Train_acc0.853\n",
            "70 test_acc0.9256 Train_acc0.842\n",
            "80 test_acc0.9178 Train_acc0.8174545454545454\n",
            "90 test_acc0.883 Train_acc0.7203636363636363\n"
          ],
          "name": "stdout"
        }
      ]
    },
    {
      "cell_type": "markdown",
      "metadata": {
        "id": "Kt1E0dgbM3Zs",
        "colab_type": "text"
      },
      "source": [
        "#lets us create confusion matrix"
      ]
    },
    {
      "cell_type": "code",
      "metadata": {
        "id": "jIdac7GSNB7U",
        "colab_type": "code",
        "colab": {}
      },
      "source": [
        "from sklearn.metrics import confusion_matrix\n",
        "from sklearn.metrics import accuracy_score"
      ],
      "execution_count": 0,
      "outputs": []
    },
    {
      "cell_type": "code",
      "metadata": {
        "id": "Nn6UR-72M5jG",
        "colab_type": "code",
        "outputId": "d48ba26a-4f68-449c-c0f2-6004e03b7d5c",
        "colab": {
          "base_uri": "https://localhost:8080/",
          "height": 33
        }
      },
      "source": [
        "confusion_matrix(Ylabels, Ypred)\n"
      ],
      "execution_count": 226,
      "outputs": [
        {
          "output_type": "execute_result",
          "data": {
            "text/plain": [
              "array([[1]])"
            ]
          },
          "metadata": {
            "tags": []
          },
          "execution_count": 226
        }
      ]
    },
    {
      "cell_type": "code",
      "metadata": {
        "id": "Sviv9KXTOMfM",
        "colab_type": "code",
        "outputId": "5d882130-5046-4da8-b691-a5906bc8c40d",
        "colab": {
          "base_uri": "https://localhost:8080/",
          "height": 33
        }
      },
      "source": [
        "accuracy_score(Ylabels, Ypred)*100"
      ],
      "execution_count": 227,
      "outputs": [
        {
          "output_type": "execute_result",
          "data": {
            "text/plain": [
              "100.0"
            ]
          },
          "metadata": {
            "tags": []
          },
          "execution_count": 227
        }
      ]
    }
  ]
}