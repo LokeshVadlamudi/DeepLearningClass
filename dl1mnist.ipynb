{
  "nbformat": 4,
  "nbformat_minor": 0,
  "metadata": {
    "colab": {
      "name": "dl1mnist.ipynb",
      "provenance": [],
      "authorship_tag": "ABX9TyMBpwkzSvR295vXpwKEfcQu",
      "include_colab_link": true
    },
    "kernelspec": {
      "name": "python3",
      "display_name": "Python 3"
    },
    "accelerator": "GPU"
  },
  "cells": [
    {
      "cell_type": "markdown",
      "metadata": {
        "id": "view-in-github",
        "colab_type": "text"
      },
      "source": [
        "<a href=\"https://colab.research.google.com/github/LokeshVadlamudi/DeepLearningClass/blob/master/dl1mnist.ipynb\" target=\"_parent\"><img src=\"https://colab.research.google.com/assets/colab-badge.svg\" alt=\"Open In Colab\"/></a>"
      ]
    },
    {
      "cell_type": "markdown",
      "metadata": {
        "id": "I-2nbIhRB2J_",
        "colab_type": "text"
      },
      "source": [
        "#Importing the libraries"
      ]
    },
    {
      "cell_type": "code",
      "metadata": {
        "id": "mEfAydpgznAU",
        "colab_type": "code",
        "colab": {}
      },
      "source": [
        "import numpy as np"
      ],
      "execution_count": 0,
      "outputs": []
    },
    {
      "cell_type": "code",
      "metadata": {
        "id": "KL-vFNHE3xsW",
        "colab_type": "code",
        "colab": {}
      },
      "source": [
        "from keras.datasets import mnist"
      ],
      "execution_count": 0,
      "outputs": []
    },
    {
      "cell_type": "markdown",
      "metadata": {
        "id": "AbONqvVVBnD5",
        "colab_type": "text"
      },
      "source": [
        "#Loading the dataset"
      ]
    },
    {
      "cell_type": "code",
      "metadata": {
        "id": "pO18TzCZ30ia",
        "colab_type": "code",
        "colab": {}
      },
      "source": [
        "(x_train,y_train) , (x_test,y_test) = mnist.load_data()"
      ],
      "execution_count": 0,
      "outputs": []
    },
    {
      "cell_type": "markdown",
      "metadata": {
        "id": "2uFN7kzaB7dk",
        "colab_type": "text"
      },
      "source": [
        "#Normalizing the data inputs"
      ]
    },
    {
      "cell_type": "code",
      "metadata": {
        "id": "yOglV1oH3-pZ",
        "colab_type": "code",
        "colab": {}
      },
      "source": [
        "images, labels = (x_train[0:1000].reshape(1000,28*28))/255,y_train[0:1000]"
      ],
      "execution_count": 0,
      "outputs": []
    },
    {
      "cell_type": "markdown",
      "metadata": {
        "id": "G_M2JSr4CBLi",
        "colab_type": "text"
      },
      "source": [
        "#One Hot encoding the output labels"
      ]
    },
    {
      "cell_type": "code",
      "metadata": {
        "id": "WRiyRSsT4NUS",
        "colab_type": "code",
        "colab": {}
      },
      "source": [
        "one_hot_labels = np.zeros((len(labels),10))"
      ],
      "execution_count": 0,
      "outputs": []
    },
    {
      "cell_type": "code",
      "metadata": {
        "id": "pIs2S-k14SSz",
        "colab_type": "code",
        "colab": {}
      },
      "source": [
        "for i,l in enumerate(labels):\n",
        "  one_hot_labels[i][l] = 1\n",
        "labels = one_hot_labels"
      ],
      "execution_count": 0,
      "outputs": []
    },
    {
      "cell_type": "code",
      "metadata": {
        "id": "W51EN1tX4eu0",
        "colab_type": "code",
        "colab": {}
      },
      "source": [
        "test_images = x_test.reshape(len(x_test),28*28)/255\n",
        "test_labels = np.zeros((len(y_test),10))\n"
      ],
      "execution_count": 0,
      "outputs": []
    },
    {
      "cell_type": "code",
      "metadata": {
        "id": "_DrC7YPB4qUM",
        "colab_type": "code",
        "colab": {}
      },
      "source": [
        "for i,l in enumerate(y_test):\n",
        "  test_labels[i][l] = 1"
      ],
      "execution_count": 0,
      "outputs": []
    },
    {
      "cell_type": "markdown",
      "metadata": {
        "id": "rs3FH1mCCUZI",
        "colab_type": "text"
      },
      "source": [
        "#Used Different Activation functions ( added relu , tanh and softmax)"
      ]
    },
    {
      "cell_type": "code",
      "metadata": {
        "id": "RhJHVfDH4y3G",
        "colab_type": "code",
        "colab": {}
      },
      "source": [
        "def tanh(x):\n",
        "  return np.tanh(x)"
      ],
      "execution_count": 0,
      "outputs": []
    },
    {
      "cell_type": "code",
      "metadata": {
        "id": "fazrEwM243ms",
        "colab_type": "code",
        "colab": {}
      },
      "source": [
        "def tanh2deriv(output):\n",
        "  return 1 - (output ** 2)"
      ],
      "execution_count": 0,
      "outputs": []
    },
    {
      "cell_type": "code",
      "metadata": {
        "id": "r8uRgG9gbN9E",
        "colab_type": "code",
        "colab": {}
      },
      "source": [
        "def relu(x):\n",
        "  return (x>=0)*x"
      ],
      "execution_count": 0,
      "outputs": []
    },
    {
      "cell_type": "code",
      "metadata": {
        "id": "WuYE1vmPbPce",
        "colab_type": "code",
        "colab": {}
      },
      "source": [
        "def relu2deriv(x):\n",
        "  return x>=0"
      ],
      "execution_count": 0,
      "outputs": []
    },
    {
      "cell_type": "code",
      "metadata": {
        "id": "dCFLLGQW48rN",
        "colab_type": "code",
        "colab": {}
      },
      "source": [
        "def softmax(x):\n",
        "  temp = np.exp(x)\n",
        "  return temp / np.sum(temp,axis = 1, keepdims = True)"
      ],
      "execution_count": 0,
      "outputs": []
    },
    {
      "cell_type": "markdown",
      "metadata": {
        "id": "Q71y5tQEBYfl",
        "colab_type": "text"
      },
      "source": [
        "#Number of iterations, and different hidden layer sizes"
      ]
    },
    {
      "cell_type": "code",
      "metadata": {
        "id": "RssmQMjT5GNK",
        "colab_type": "code",
        "colab": {}
      },
      "source": [
        "iterations , hidden_size, hidden_size1 = (300,200,100)"
      ],
      "execution_count": 0,
      "outputs": []
    },
    {
      "cell_type": "markdown",
      "metadata": {
        "id": "Ts0O5-OkVNiB",
        "colab_type": "text"
      },
      "source": [
        "#different learning rates for different layers"
      ]
    },
    {
      "cell_type": "code",
      "metadata": {
        "id": "yZrQ1-iDVRm5",
        "colab_type": "code",
        "colab": {}
      },
      "source": [
        "alpha1,alpha2,alpha3 = 2,3,1.5"
      ],
      "execution_count": 0,
      "outputs": []
    },
    {
      "cell_type": "markdown",
      "metadata": {
        "id": "GpuDHSkmBOkc",
        "colab_type": "text"
      },
      "source": [
        "#Initial input and number of output labels"
      ]
    },
    {
      "cell_type": "code",
      "metadata": {
        "id": "4ANn3SqV5LPT",
        "colab_type": "code",
        "colab": {}
      },
      "source": [
        "inputPixels , num_labels = (784,10)"
      ],
      "execution_count": 0,
      "outputs": []
    },
    {
      "cell_type": "markdown",
      "metadata": {
        "id": "C8v8wqeDBFbW",
        "colab_type": "text"
      },
      "source": [
        "#batch size for stochastic mini-batch gradient descent"
      ]
    },
    {
      "cell_type": "code",
      "metadata": {
        "id": "papJiWuC5PE2",
        "colab_type": "code",
        "colab": {}
      },
      "source": [
        "batch_size = 100"
      ],
      "execution_count": 0,
      "outputs": []
    },
    {
      "cell_type": "markdown",
      "metadata": {
        "id": "wlfUt-jYA88T",
        "colab_type": "text"
      },
      "source": [
        "#Weights between layer_0 and layer_1"
      ]
    },
    {
      "cell_type": "code",
      "metadata": {
        "id": "1vV6ZcJO5Qg3",
        "colab_type": "code",
        "colab": {}
      },
      "source": [
        "weights_0_1 = 0.02*np.random.random((inputPixels,hidden_size))-0.01"
      ],
      "execution_count": 0,
      "outputs": []
    },
    {
      "cell_type": "markdown",
      "metadata": {
        "id": "anuEI2IkBAho",
        "colab_type": "text"
      },
      "source": [
        "#weights between layer_1 and layer_2"
      ]
    },
    {
      "cell_type": "code",
      "metadata": {
        "id": "Prgd1K-u5aGJ",
        "colab_type": "code",
        "colab": {}
      },
      "source": [
        "weights_1_2 = 0.2*np.random.random((hidden_size,hidden_size1))-0.09"
      ],
      "execution_count": 0,
      "outputs": []
    },
    {
      "cell_type": "markdown",
      "metadata": {
        "id": "Gd-Waa0DAyI6",
        "colab_type": "text"
      },
      "source": [
        "#Added additional weights for extra layer"
      ]
    },
    {
      "cell_type": "code",
      "metadata": {
        "id": "tTGjLJ6A9FL_",
        "colab_type": "code",
        "colab": {}
      },
      "source": [
        "weights_2_3 = 0.3 * np.random.random((hidden_size1,num_labels)) - 0.1"
      ],
      "execution_count": 0,
      "outputs": []
    },
    {
      "cell_type": "markdown",
      "metadata": {
        "id": "akTBE4FaArnU",
        "colab_type": "text"
      },
      "source": [
        "#Added an extra layer to make it three layer Neural Network."
      ]
    },
    {
      "cell_type": "code",
      "metadata": {
        "id": "B19ROTJa5jCB",
        "colab_type": "code",
        "outputId": "fa1f152e-2a34-4505-8a98-da6ebe3b58d5",
        "colab": {
          "base_uri": "https://localhost:8080/",
          "height": 505
        }
      },
      "source": [
        "for j in range(iterations):\n",
        "  correct_cnt = 0\n",
        "  for i in range(int(len(images) / batch_size)):\n",
        "    batch_start, batch_end = ((i * batch_size), ((i + 1)*batch_size))\n",
        "    layer_0 = images[batch_start:batch_end]\n",
        "\n",
        "    layer_1 = tanh(np.dot(layer_0,weights_0_1))\n",
        "\n",
        "    #drop out mask on layer 1\n",
        "    dropout_mask = np.random.randint(2,size=layer_1.shape)\n",
        "    layer_1 *= dropout_mask*2\n",
        "\n",
        "    layer_2 = relu(np.dot(layer_1,weights_1_2))\n",
        "\n",
        "    #drop out mask on layer 2\n",
        "    dropout_mask = np.random.randint(2,size=layer_2.shape)\n",
        "    layer_2 *= dropout_mask*2\n",
        "\n",
        "    layer_3 = softmax(np.dot(layer_2,weights_2_3))\n",
        "\n",
        "    for k in range(batch_size):\n",
        "      correct_cnt += int(np.argmax(layer_3[k:k+1])== np.argmax(labels[batch_start+k:batch_start+k+1]))\n",
        "    \n",
        "    layer_3_delta = (labels[batch_start:batch_end] - layer_3) / (batch_size * layer_3.shape[0])\n",
        "    layer_2_delta = layer_3_delta.dot(weights_2_3.T) * relu2deriv(layer_2)\n",
        "    layer_1_delta = layer_2_delta.dot(weights_1_2.T) * tanh2deriv(layer_1)\n",
        "\n",
        "    # layer_3_delta *= dropout_mask\n",
        "\n",
        "    weights_2_3 += alpha3 * layer_2.T.dot(layer_3_delta)\n",
        "    weights_1_2 += alpha2 * layer_1.T.dot(layer_2_delta)\n",
        "    weights_0_1 += alpha1 * layer_0.T.dot(layer_1_delta)\n",
        "\n",
        "  test_correct_cnt = 0\n",
        "  \n",
        "  for i in range(len(test_images)):\n",
        "    \n",
        "    layer_0 = test_images[i:i+1]\n",
        "    layer_1 = tanh(np.dot(layer_0,weights_0_1))\n",
        "    layer_2 = relu(np.dot(layer_1,weights_1_2))\n",
        "    layer_3 = np.dot(layer_2,weights_2_3)\n",
        "\n",
        "    test_correct_cnt += int(np.argmax(layer_3) == np.argmax(test_labels[i:i+1]))\n",
        "  \n",
        "  if(j % 10 == 0):\n",
        "    print(str(j) + \" test_acc\" + str(test_correct_cnt/float(len(test_images))) + \" Train_acc\" + str(correct_cnt/float(len(images))))\n",
        "\n",
        "\n",
        "\n",
        "\n",
        "\n"
      ],
      "execution_count": 215,
      "outputs": [
        {
          "output_type": "stream",
          "text": [
            "0 test_acc0.4683 Train_acc0.16\n",
            "10 test_acc0.622 Train_acc0.605\n",
            "20 test_acc0.7388 Train_acc0.712\n",
            "30 test_acc0.7952 Train_acc0.754\n",
            "40 test_acc0.8122 Train_acc0.8\n",
            "50 test_acc0.8296 Train_acc0.817\n",
            "60 test_acc0.8429 Train_acc0.853\n",
            "70 test_acc0.85 Train_acc0.866\n",
            "80 test_acc0.8577 Train_acc0.862\n",
            "90 test_acc0.8583 Train_acc0.88\n",
            "100 test_acc0.8625 Train_acc0.901\n",
            "110 test_acc0.863 Train_acc0.891\n",
            "120 test_acc0.8667 Train_acc0.893\n",
            "130 test_acc0.867 Train_acc0.907\n",
            "140 test_acc0.867 Train_acc0.907\n",
            "150 test_acc0.8696 Train_acc0.907\n",
            "160 test_acc0.8712 Train_acc0.911\n",
            "170 test_acc0.869 Train_acc0.921\n",
            "180 test_acc0.8695 Train_acc0.927\n",
            "190 test_acc0.8722 Train_acc0.921\n",
            "200 test_acc0.8729 Train_acc0.93\n",
            "210 test_acc0.8714 Train_acc0.939\n",
            "220 test_acc0.8745 Train_acc0.941\n",
            "230 test_acc0.8726 Train_acc0.932\n",
            "240 test_acc0.8745 Train_acc0.939\n",
            "250 test_acc0.8739 Train_acc0.952\n",
            "260 test_acc0.8744 Train_acc0.945\n",
            "270 test_acc0.8756 Train_acc0.954\n",
            "280 test_acc0.8758 Train_acc0.942\n",
            "290 test_acc0.8765 Train_acc0.95\n"
          ],
          "name": "stdout"
        }
      ]
    }
  ]
}